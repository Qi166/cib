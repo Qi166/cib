{
 "cells": [
  {
   "cell_type": "markdown",
   "metadata": {},
   "source": [
    "# Input Packages"
   ]
  },
  {
   "cell_type": "code",
   "execution_count": 1,
   "metadata": {},
   "outputs": [],
   "source": [
    "%load_ext autoreload\n",
    "%autoreload 2\n",
    "import warnings\n",
    "warnings.filterwarnings('ignore')\n",
    "import numpy as np\n",
    "import pandas as pd\n",
    "import seaborn as sns\n",
    "import datetime\n",
    "import time\n",
    "import lightgbm as lgb\n",
    "from sklearn import preprocessing\n",
    "from sklearn.model_selection import train_test_split\n",
    "from sklearn.model_selection import cross_val_score\n",
    "from sklearn import metrics\n",
    "from sklearn.metrics import f1_score"
   ]
  },
  {
   "cell_type": "markdown",
   "metadata": {},
   "source": [
    "# Input data"
   ]
  },
  {
   "cell_type": "code",
   "execution_count": 2,
   "metadata": {
    "collapsed": true
   },
   "outputs": [],
   "source": [
    "PATH_DATA_RAW = '../input/'"
   ]
  },
  {
   "cell_type": "code",
   "execution_count": 3,
   "metadata": {
    "collapsed": true
   },
   "outputs": [],
   "source": [
    "entbase_raw = pd.read_csv(PATH_DATA_RAW + \"1baseinfo.csv\")\n",
    "alter_raw = pd.read_csv(PATH_DATA_RAW + \"2alterinfo.csv\")\n",
    "branch_raw = pd.read_csv(PATH_DATA_RAW + \"3branchinfo.csv\")\n",
    "invest_raw = pd.read_csv(PATH_DATA_RAW + \"4investinfo.csv\")\n",
    "right_raw = pd.read_csv(PATH_DATA_RAW + \"5rightinfo.csv\")\n",
    "project_raw = pd.read_csv(PATH_DATA_RAW + \"6projectinfo.csv\")\n",
    "case_raw = pd.read_csv(PATH_DATA_RAW + \"7caseinfo.csv\")\n",
    "dishonest_raw = pd.read_csv(PATH_DATA_RAW + \"8dishonestinfo.csv\")\n",
    "recruit_raw = pd.read_csv(PATH_DATA_RAW + \"9jobinfo.csv\")"
   ]
  },
  {
   "cell_type": "code",
   "execution_count": 4,
   "metadata": {
    "collapsed": true
   },
   "outputs": [],
   "source": [
    "train_raw = pd.read_csv(PATH_DATA_RAW + \"train.csv\")\n",
    "test_raw = pd.read_csv(PATH_DATA_RAW + \"evaluation_public.csv\")"
   ]
  },
  {
   "cell_type": "markdown",
   "metadata": {},
   "source": [
    "# Preprocessing"
   ]
  },
  {
   "cell_type": "markdown",
   "metadata": {},
   "source": [
    "### Base"
   ]
  },
  {
   "cell_type": "code",
   "execution_count": 5,
   "metadata": {
    "collapsed": true
   },
   "outputs": [],
   "source": [
    "#1\n",
    "entbase = entbase_raw.copy()\n",
    "entbase['CreateYear'] = 2018 - entbase['CreateYear']"
   ]
  },
  {
   "cell_type": "code",
   "execution_count": 6,
   "metadata": {},
   "outputs": [
    {
     "data": {
      "text/html": [
       "<div>\n",
       "<style scoped>\n",
       "    .dataframe tbody tr th:only-of-type {\n",
       "        vertical-align: middle;\n",
       "    }\n",
       "\n",
       "    .dataframe tbody tr th {\n",
       "        vertical-align: top;\n",
       "    }\n",
       "\n",
       "    .dataframe thead th {\n",
       "        text-align: right;\n",
       "    }\n",
       "</style>\n",
       "<table border=\"1\" class=\"dataframe\">\n",
       "  <thead>\n",
       "    <tr style=\"text-align: right;\">\n",
       "      <th></th>\n",
       "      <th>EID</th>\n",
       "      <th>CreateYear</th>\n",
       "      <th>TradeType</th>\n",
       "      <th>RegisteredCapital</th>\n",
       "      <th>Type</th>\n",
       "      <th>Feature1</th>\n",
       "      <th>Feature2</th>\n",
       "      <th>Feature3</th>\n",
       "      <th>Feature4</th>\n",
       "      <th>Feature5</th>\n",
       "    </tr>\n",
       "  </thead>\n",
       "  <tbody>\n",
       "    <tr>\n",
       "      <th>0</th>\n",
       "      <td>732046267</td>\n",
       "      <td>38</td>\n",
       "      <td>51.0</td>\n",
       "      <td>480.0</td>\n",
       "      <td>13</td>\n",
       "      <td>25.0</td>\n",
       "      <td>1.0</td>\n",
       "      <td>98041.0</td>\n",
       "      <td>17.0</td>\n",
       "      <td>NaN</td>\n",
       "    </tr>\n",
       "    <tr>\n",
       "      <th>1</th>\n",
       "      <td>802231616</td>\n",
       "      <td>25</td>\n",
       "      <td>74.0</td>\n",
       "      <td>30.0</td>\n",
       "      <td>13</td>\n",
       "      <td>0.0</td>\n",
       "      <td>1.0</td>\n",
       "      <td>570.0</td>\n",
       "      <td>3.0</td>\n",
       "      <td>NaN</td>\n",
       "    </tr>\n",
       "    <tr>\n",
       "      <th>2</th>\n",
       "      <td>533129872</td>\n",
       "      <td>3</td>\n",
       "      <td>69.0</td>\n",
       "      <td>1000.0</td>\n",
       "      <td>6</td>\n",
       "      <td>2.0</td>\n",
       "      <td>1.0</td>\n",
       "      <td>1000.0</td>\n",
       "      <td>0.0</td>\n",
       "      <td>NaN</td>\n",
       "    </tr>\n",
       "  </tbody>\n",
       "</table>\n",
       "</div>"
      ],
      "text/plain": [
       "         EID  CreateYear  TradeType  RegisteredCapital  Type  Feature1  \\\n",
       "0  732046267          38       51.0              480.0    13      25.0   \n",
       "1  802231616          25       74.0               30.0    13       0.0   \n",
       "2  533129872           3       69.0             1000.0     6       2.0   \n",
       "\n",
       "   Feature2  Feature3  Feature4  Feature5  \n",
       "0       1.0   98041.0      17.0       NaN  \n",
       "1       1.0     570.0       3.0       NaN  \n",
       "2       1.0    1000.0       0.0       NaN  "
      ]
     },
     "execution_count": 6,
     "metadata": {},
     "output_type": "execute_result"
    }
   ],
   "source": [
    "entbase.head(3)"
   ]
  },
  {
   "cell_type": "code",
   "execution_count": 7,
   "metadata": {},
   "outputs": [
    {
     "data": {
      "text/html": [
       "<div>\n",
       "<style scoped>\n",
       "    .dataframe tbody tr th:only-of-type {\n",
       "        vertical-align: middle;\n",
       "    }\n",
       "\n",
       "    .dataframe tbody tr th {\n",
       "        vertical-align: top;\n",
       "    }\n",
       "\n",
       "    .dataframe thead th {\n",
       "        text-align: right;\n",
       "    }\n",
       "</style>\n",
       "<table border=\"1\" class=\"dataframe\">\n",
       "  <thead>\n",
       "    <tr style=\"text-align: right;\">\n",
       "      <th></th>\n",
       "      <th>TradeType</th>\n",
       "      <th>RegisteredCapital</th>\n",
       "    </tr>\n",
       "  </thead>\n",
       "  <tbody>\n",
       "    <tr>\n",
       "      <th>0</th>\n",
       "      <td>1.0</td>\n",
       "      <td>642.345588</td>\n",
       "    </tr>\n",
       "    <tr>\n",
       "      <th>1</th>\n",
       "      <td>2.0</td>\n",
       "      <td>298.529412</td>\n",
       "    </tr>\n",
       "    <tr>\n",
       "      <th>2</th>\n",
       "      <td>3.0</td>\n",
       "      <td>370.085616</td>\n",
       "    </tr>\n",
       "    <tr>\n",
       "      <th>3</th>\n",
       "      <td>4.0</td>\n",
       "      <td>243.155080</td>\n",
       "    </tr>\n",
       "    <tr>\n",
       "      <th>4</th>\n",
       "      <td>5.0</td>\n",
       "      <td>1220.463492</td>\n",
       "    </tr>\n",
       "  </tbody>\n",
       "</table>\n",
       "</div>"
      ],
      "text/plain": [
       "   TradeType  RegisteredCapital\n",
       "0        1.0         642.345588\n",
       "1        2.0         298.529412\n",
       "2        3.0         370.085616\n",
       "3        4.0         243.155080\n",
       "4        5.0        1220.463492"
      ]
     },
     "execution_count": 7,
     "metadata": {},
     "output_type": "execute_result"
    }
   ],
   "source": [
    "# 不同行业平均资产规模不同，将注册资本转换为企业在其所属行业内的相对资产规模\n",
    "avg_capital_tradetype = entbase.groupby('TradeType', as_index=False).RegisteredCapital.mean()\n",
    "avg_capital_tradetype.head()"
   ]
  },
  {
   "cell_type": "code",
   "execution_count": 8,
   "metadata": {
    "collapsed": true
   },
   "outputs": [],
   "source": [
    "avg_capital_tradetype.columns=['TradeType','AvgTradeTypeCapital']   # 替换字段名，避免和原字段重名"
   ]
  },
  {
   "cell_type": "code",
   "execution_count": 9,
   "metadata": {
    "collapsed": true
   },
   "outputs": [],
   "source": [
    "# 拼表\n",
    "entbase = pd.merge(entbase, avg_capital_tradetype, on='TradeType', how='left')"
   ]
  },
  {
   "cell_type": "code",
   "execution_count": 10,
   "metadata": {},
   "outputs": [
    {
     "data": {
      "text/html": [
       "<div>\n",
       "<style scoped>\n",
       "    .dataframe tbody tr th:only-of-type {\n",
       "        vertical-align: middle;\n",
       "    }\n",
       "\n",
       "    .dataframe tbody tr th {\n",
       "        vertical-align: top;\n",
       "    }\n",
       "\n",
       "    .dataframe thead th {\n",
       "        text-align: right;\n",
       "    }\n",
       "</style>\n",
       "<table border=\"1\" class=\"dataframe\">\n",
       "  <thead>\n",
       "    <tr style=\"text-align: right;\">\n",
       "      <th></th>\n",
       "      <th>EID</th>\n",
       "      <th>CreateYear</th>\n",
       "      <th>TradeType</th>\n",
       "      <th>RegisteredCapital</th>\n",
       "      <th>Type</th>\n",
       "      <th>Feature1</th>\n",
       "      <th>Feature2</th>\n",
       "      <th>Feature3</th>\n",
       "      <th>Feature4</th>\n",
       "      <th>Feature5</th>\n",
       "      <th>AvgTradeTypeCapital</th>\n",
       "    </tr>\n",
       "  </thead>\n",
       "  <tbody>\n",
       "    <tr>\n",
       "      <th>78957</th>\n",
       "      <td>1031430028</td>\n",
       "      <td>7</td>\n",
       "      <td>1.0</td>\n",
       "      <td>100.0</td>\n",
       "      <td>7</td>\n",
       "      <td>4.0</td>\n",
       "      <td>1.0</td>\n",
       "      <td>NaN</td>\n",
       "      <td>5.0</td>\n",
       "      <td>NaN</td>\n",
       "      <td>642.345588</td>\n",
       "    </tr>\n",
       "    <tr>\n",
       "      <th>286274</th>\n",
       "      <td>309583851</td>\n",
       "      <td>4</td>\n",
       "      <td>1.0</td>\n",
       "      <td>100.0</td>\n",
       "      <td>7</td>\n",
       "      <td>6.0</td>\n",
       "      <td>2.0</td>\n",
       "      <td>NaN</td>\n",
       "      <td>7.0</td>\n",
       "      <td>NaN</td>\n",
       "      <td>642.345588</td>\n",
       "    </tr>\n",
       "    <tr>\n",
       "      <th>294901</th>\n",
       "      <td>494464080</td>\n",
       "      <td>5</td>\n",
       "      <td>1.0</td>\n",
       "      <td>3.0</td>\n",
       "      <td>7</td>\n",
       "      <td>NaN</td>\n",
       "      <td>2.0</td>\n",
       "      <td>NaN</td>\n",
       "      <td>0.0</td>\n",
       "      <td>NaN</td>\n",
       "      <td>642.345588</td>\n",
       "    </tr>\n",
       "    <tr>\n",
       "      <th>175537</th>\n",
       "      <td>593218945</td>\n",
       "      <td>15</td>\n",
       "      <td>1.0</td>\n",
       "      <td>10.0</td>\n",
       "      <td>8</td>\n",
       "      <td>NaN</td>\n",
       "      <td>1.0</td>\n",
       "      <td>NaN</td>\n",
       "      <td>1.0</td>\n",
       "      <td>NaN</td>\n",
       "      <td>642.345588</td>\n",
       "    </tr>\n",
       "    <tr>\n",
       "      <th>57499</th>\n",
       "      <td>945750581</td>\n",
       "      <td>6</td>\n",
       "      <td>1.0</td>\n",
       "      <td>100.0</td>\n",
       "      <td>7</td>\n",
       "      <td>0.0</td>\n",
       "      <td>2.0</td>\n",
       "      <td>NaN</td>\n",
       "      <td>0.0</td>\n",
       "      <td>NaN</td>\n",
       "      <td>642.345588</td>\n",
       "    </tr>\n",
       "  </tbody>\n",
       "</table>\n",
       "</div>"
      ],
      "text/plain": [
       "               EID  CreateYear  TradeType  RegisteredCapital  Type  Feature1  \\\n",
       "78957   1031430028           7        1.0              100.0     7       4.0   \n",
       "286274   309583851           4        1.0              100.0     7       6.0   \n",
       "294901   494464080           5        1.0                3.0     7       NaN   \n",
       "175537   593218945          15        1.0               10.0     8       NaN   \n",
       "57499    945750581           6        1.0              100.0     7       0.0   \n",
       "\n",
       "        Feature2  Feature3  Feature4  Feature5  AvgTradeTypeCapital  \n",
       "78957        1.0       NaN       5.0       NaN           642.345588  \n",
       "286274       2.0       NaN       7.0       NaN           642.345588  \n",
       "294901       2.0       NaN       0.0       NaN           642.345588  \n",
       "175537       1.0       NaN       1.0       NaN           642.345588  \n",
       "57499        2.0       NaN       0.0       NaN           642.345588  "
      ]
     },
     "execution_count": 10,
     "metadata": {},
     "output_type": "execute_result"
    }
   ],
   "source": [
    "entbase.sort_values('TradeType').head()"
   ]
  },
  {
   "cell_type": "code",
   "execution_count": 11,
   "metadata": {
    "collapsed": true
   },
   "outputs": [],
   "source": [
    "entbase['TradeTypeCapitalSize'] = entbase['RegisteredCapital'] / entbase['AvgTradeTypeCapital']"
   ]
  },
  {
   "cell_type": "code",
   "execution_count": 12,
   "metadata": {
    "scrolled": true
   },
   "outputs": [
    {
     "data": {
      "text/plain": [
       "(300000, 12)"
      ]
     },
     "execution_count": 12,
     "metadata": {},
     "output_type": "execute_result"
    }
   ],
   "source": [
    "entbase.shape"
   ]
  },
  {
   "cell_type": "markdown",
   "metadata": {},
   "source": [
    "### Alter"
   ]
  },
  {
   "cell_type": "code",
   "execution_count": 13,
   "metadata": {
    "collapsed": true
   },
   "outputs": [],
   "source": [
    "#2\n",
    "alter_raw = alter_raw.drop_duplicates()\n",
    "alter = alter_raw.copy()"
   ]
  },
  {
   "cell_type": "code",
   "execution_count": 14,
   "metadata": {},
   "outputs": [
    {
     "data": {
      "text/plain": [
       "count     28322\n",
       "unique     2005\n",
       "top          10\n",
       "freq       4186\n",
       "Name: AlterBefore, dtype: object"
      ]
     },
     "execution_count": 14,
     "metadata": {},
     "output_type": "execute_result"
    }
   ],
   "source": [
    "alter['AlterBefore'].describe()"
   ]
  },
  {
   "cell_type": "code",
   "execution_count": 15,
   "metadata": {
    "collapsed": true
   },
   "outputs": [],
   "source": [
    "#正则表达式，取出数字部分\n",
    "alter['AlterBefore'] = alter['AlterBefore'].str.extract('(?P<AlterBefore>[0-9]+)', expand=True)\n",
    "alter['AlterAfter'] = alter['AlterAfter'].str.extract('(?P<AlterAfter>[0-9]+)', expand=True)"
   ]
  },
  {
   "cell_type": "code",
   "execution_count": 16,
   "metadata": {},
   "outputs": [
    {
     "data": {
      "text/plain": [
       "(238268, 5)"
      ]
     },
     "execution_count": 16,
     "metadata": {},
     "output_type": "execute_result"
    }
   ],
   "source": [
    "alter.shape"
   ]
  },
  {
   "cell_type": "code",
   "execution_count": 17,
   "metadata": {
    "collapsed": true
   },
   "outputs": [],
   "source": [
    "alter.drop_duplicates(inplace=True)\n",
    "alter['AlterBefore'] = alter['AlterBefore'][alter['AlterBefore'].isnull()==False].apply(lambda x: int(x))\n",
    "alter['AlterAfter'] = alter['AlterAfter'][alter['AlterAfter'].isnull()==False].apply(lambda x: int(x))"
   ]
  },
  {
   "cell_type": "code",
   "execution_count": 18,
   "metadata": {
    "collapsed": true
   },
   "outputs": [],
   "source": [
    "alter['ALTDIFF'] = alter['AlterAfter'] - alter['AlterBefore']"
   ]
  },
  {
   "cell_type": "code",
   "execution_count": 19,
   "metadata": {},
   "outputs": [
    {
     "data": {
      "text/plain": [
       "count     27253.000000\n",
       "mean       1429.294280\n",
       "std       13015.074676\n",
       "min     -120100.000000\n",
       "25%          82.000000\n",
       "50%         200.000000\n",
       "75%         700.000000\n",
       "max      969160.000000\n",
       "Name: ALTDIFF, dtype: float64"
      ]
     },
     "execution_count": 19,
     "metadata": {},
     "output_type": "execute_result"
    }
   ],
   "source": [
    "alter['ALTDIFF'].describe()"
   ]
  },
  {
   "cell_type": "code",
   "execution_count": 20,
   "metadata": {},
   "outputs": [
    {
     "data": {
      "text/plain": [
       "Index(['EID', 'AlterNumber', 'AlterDate', 'AlterBefore', 'AlterAfter',\n",
       "       'ALTDIFF'],\n",
       "      dtype='object')"
      ]
     },
     "execution_count": 20,
     "metadata": {},
     "output_type": "execute_result"
    }
   ],
   "source": [
    "alter.columns"
   ]
  },
  {
   "cell_type": "code",
   "execution_count": 21,
   "metadata": {},
   "outputs": [
    {
     "data": {
      "text/plain": [
       "array(['05', '27'], dtype=object)"
      ]
     },
     "execution_count": 21,
     "metadata": {},
     "output_type": "execute_result"
    }
   ],
   "source": [
    "#如赛题描述，仅AlterNumber为“05”和“27”有数据\n",
    "alter['AlterNumber'][alter['AlterBefore'].isnull() == False].unique()"
   ]
  },
  {
   "cell_type": "code",
   "execution_count": 22,
   "metadata": {},
   "outputs": [
    {
     "data": {
      "text/html": [
       "<div>\n",
       "<style scoped>\n",
       "    .dataframe tbody tr th:only-of-type {\n",
       "        vertical-align: middle;\n",
       "    }\n",
       "\n",
       "    .dataframe tbody tr th {\n",
       "        vertical-align: top;\n",
       "    }\n",
       "\n",
       "    .dataframe thead th {\n",
       "        text-align: right;\n",
       "    }\n",
       "</style>\n",
       "<table border=\"1\" class=\"dataframe\">\n",
       "  <thead>\n",
       "    <tr style=\"text-align: right;\">\n",
       "      <th></th>\n",
       "      <th>EID</th>\n",
       "      <th>AlterNumber</th>\n",
       "      <th>AlterDate</th>\n",
       "      <th>AlterBefore</th>\n",
       "      <th>AlterAfter</th>\n",
       "      <th>ALTDIFF</th>\n",
       "    </tr>\n",
       "  </thead>\n",
       "  <tbody>\n",
       "    <tr>\n",
       "      <th>11</th>\n",
       "      <td>378581293</td>\n",
       "      <td>05</td>\n",
       "      <td>2014-09</td>\n",
       "      <td>50.0</td>\n",
       "      <td>200.0</td>\n",
       "      <td>150.0</td>\n",
       "    </tr>\n",
       "    <tr>\n",
       "      <th>13</th>\n",
       "      <td>1195396819</td>\n",
       "      <td>05</td>\n",
       "      <td>2015-01</td>\n",
       "      <td>10.0</td>\n",
       "      <td>1200.0</td>\n",
       "      <td>1190.0</td>\n",
       "    </tr>\n",
       "    <tr>\n",
       "      <th>34</th>\n",
       "      <td>852219791</td>\n",
       "      <td>05</td>\n",
       "      <td>2014-11</td>\n",
       "      <td>50.0</td>\n",
       "      <td>500.0</td>\n",
       "      <td>450.0</td>\n",
       "    </tr>\n",
       "    <tr>\n",
       "      <th>46</th>\n",
       "      <td>1128235944</td>\n",
       "      <td>05</td>\n",
       "      <td>2015-01</td>\n",
       "      <td>50.0</td>\n",
       "      <td>300.0</td>\n",
       "      <td>250.0</td>\n",
       "    </tr>\n",
       "    <tr>\n",
       "      <th>51</th>\n",
       "      <td>1128235945</td>\n",
       "      <td>05</td>\n",
       "      <td>2014-06</td>\n",
       "      <td>50.0</td>\n",
       "      <td>100.0</td>\n",
       "      <td>50.0</td>\n",
       "    </tr>\n",
       "  </tbody>\n",
       "</table>\n",
       "</div>"
      ],
      "text/plain": [
       "           EID AlterNumber AlterDate  AlterBefore  AlterAfter  ALTDIFF\n",
       "11   378581293          05   2014-09         50.0       200.0    150.0\n",
       "13  1195396819          05   2015-01         10.0      1200.0   1190.0\n",
       "34   852219791          05   2014-11         50.0       500.0    450.0\n",
       "46  1128235944          05   2015-01         50.0       300.0    250.0\n",
       "51  1128235945          05   2014-06         50.0       100.0     50.0"
      ]
     },
     "execution_count": 22,
     "metadata": {},
     "output_type": "execute_result"
    }
   ],
   "source": [
    "#为了拿到同一变更事项下的统计特征，将alter表按照 05  27 拆分\n",
    "alter_05 = alter[alter['AlterNumber'] == '05']\n",
    "alter_05.head()"
   ]
  },
  {
   "cell_type": "code",
   "execution_count": 23,
   "metadata": {},
   "outputs": [
    {
     "data": {
      "text/html": [
       "<div>\n",
       "<style scoped>\n",
       "    .dataframe tbody tr th:only-of-type {\n",
       "        vertical-align: middle;\n",
       "    }\n",
       "\n",
       "    .dataframe tbody tr th {\n",
       "        vertical-align: top;\n",
       "    }\n",
       "\n",
       "    .dataframe thead th {\n",
       "        text-align: right;\n",
       "    }\n",
       "</style>\n",
       "<table border=\"1\" class=\"dataframe\">\n",
       "  <thead>\n",
       "    <tr style=\"text-align: right;\">\n",
       "      <th></th>\n",
       "      <th>EID</th>\n",
       "      <th>ALTDIFF</th>\n",
       "    </tr>\n",
       "  </thead>\n",
       "  <tbody>\n",
       "    <tr>\n",
       "      <th>0</th>\n",
       "      <td>59589</td>\n",
       "      <td>400.0</td>\n",
       "    </tr>\n",
       "    <tr>\n",
       "      <th>1</th>\n",
       "      <td>83801</td>\n",
       "      <td>97.0</td>\n",
       "    </tr>\n",
       "    <tr>\n",
       "      <th>2</th>\n",
       "      <td>83836</td>\n",
       "      <td>450.0</td>\n",
       "    </tr>\n",
       "    <tr>\n",
       "      <th>3</th>\n",
       "      <td>83898</td>\n",
       "      <td>700.0</td>\n",
       "    </tr>\n",
       "    <tr>\n",
       "      <th>4</th>\n",
       "      <td>115497</td>\n",
       "      <td>300.0</td>\n",
       "    </tr>\n",
       "  </tbody>\n",
       "</table>\n",
       "</div>"
      ],
      "text/plain": [
       "      EID  ALTDIFF\n",
       "0   59589    400.0\n",
       "1   83801     97.0\n",
       "2   83836    450.0\n",
       "3   83898    700.0\n",
       "4  115497    300.0"
      ]
     },
     "execution_count": 23,
     "metadata": {},
     "output_type": "execute_result"
    }
   ],
   "source": [
    "alter_05_sum = alter_05.groupby(['EID'])['ALTDIFF'].sum().reset_index()\n",
    "alter_05_sum.head()"
   ]
  },
  {
   "cell_type": "code",
   "execution_count": 24,
   "metadata": {
    "collapsed": true
   },
   "outputs": [],
   "source": [
    "#重命名 （防止表连接时名字起冲突）\n",
    "alter_05_sum.columns = ['EID', 'alt_05_sum']"
   ]
  },
  {
   "cell_type": "code",
   "execution_count": 25,
   "metadata": {},
   "outputs": [
    {
     "data": {
      "text/html": [
       "<div>\n",
       "<style scoped>\n",
       "    .dataframe tbody tr th:only-of-type {\n",
       "        vertical-align: middle;\n",
       "    }\n",
       "\n",
       "    .dataframe tbody tr th {\n",
       "        vertical-align: top;\n",
       "    }\n",
       "\n",
       "    .dataframe thead th {\n",
       "        text-align: right;\n",
       "    }\n",
       "</style>\n",
       "<table border=\"1\" class=\"dataframe\">\n",
       "  <thead>\n",
       "    <tr style=\"text-align: right;\">\n",
       "      <th></th>\n",
       "      <th>EID</th>\n",
       "      <th>AlterNumber</th>\n",
       "      <th>AlterDate</th>\n",
       "      <th>AlterBefore</th>\n",
       "      <th>AlterAfter</th>\n",
       "      <th>ALTDIFF</th>\n",
       "      <th>alt_05_sum</th>\n",
       "    </tr>\n",
       "  </thead>\n",
       "  <tbody>\n",
       "    <tr>\n",
       "      <th>0</th>\n",
       "      <td>378581293</td>\n",
       "      <td>05</td>\n",
       "      <td>2014-09</td>\n",
       "      <td>50.0</td>\n",
       "      <td>200.0</td>\n",
       "      <td>150.0</td>\n",
       "      <td>150.0</td>\n",
       "    </tr>\n",
       "    <tr>\n",
       "      <th>1</th>\n",
       "      <td>1195396819</td>\n",
       "      <td>05</td>\n",
       "      <td>2015-01</td>\n",
       "      <td>10.0</td>\n",
       "      <td>1200.0</td>\n",
       "      <td>1190.0</td>\n",
       "      <td>1190.0</td>\n",
       "    </tr>\n",
       "    <tr>\n",
       "      <th>2</th>\n",
       "      <td>852219791</td>\n",
       "      <td>05</td>\n",
       "      <td>2014-11</td>\n",
       "      <td>50.0</td>\n",
       "      <td>500.0</td>\n",
       "      <td>450.0</td>\n",
       "      <td>450.0</td>\n",
       "    </tr>\n",
       "    <tr>\n",
       "      <th>3</th>\n",
       "      <td>1128235944</td>\n",
       "      <td>05</td>\n",
       "      <td>2015-01</td>\n",
       "      <td>50.0</td>\n",
       "      <td>300.0</td>\n",
       "      <td>250.0</td>\n",
       "      <td>250.0</td>\n",
       "    </tr>\n",
       "    <tr>\n",
       "      <th>4</th>\n",
       "      <td>1128235945</td>\n",
       "      <td>05</td>\n",
       "      <td>2014-06</td>\n",
       "      <td>50.0</td>\n",
       "      <td>100.0</td>\n",
       "      <td>50.0</td>\n",
       "      <td>50.0</td>\n",
       "    </tr>\n",
       "  </tbody>\n",
       "</table>\n",
       "</div>"
      ],
      "text/plain": [
       "          EID AlterNumber AlterDate  AlterBefore  AlterAfter  ALTDIFF  \\\n",
       "0   378581293          05   2014-09         50.0       200.0    150.0   \n",
       "1  1195396819          05   2015-01         10.0      1200.0   1190.0   \n",
       "2   852219791          05   2014-11         50.0       500.0    450.0   \n",
       "3  1128235944          05   2015-01         50.0       300.0    250.0   \n",
       "4  1128235945          05   2014-06         50.0       100.0     50.0   \n",
       "\n",
       "   alt_05_sum  \n",
       "0       150.0  \n",
       "1      1190.0  \n",
       "2       450.0  \n",
       "3       250.0  \n",
       "4        50.0  "
      ]
     },
     "execution_count": 25,
     "metadata": {},
     "output_type": "execute_result"
    }
   ],
   "source": [
    "alter_05 = pd.merge(alter_05,alter_05_sum,how='left',on='EID')\n",
    "alter_05.head()"
   ]
  },
  {
   "cell_type": "code",
   "execution_count": 26,
   "metadata": {
    "collapsed": true
   },
   "outputs": [],
   "source": [
    "#至此，“变更事项为05时，变更数量之和” 这一特征就做好了\n",
    "#但是该表中，有多条记录，如何按照EID聚合呢？对于这类于时间有关的问题，可以按照时间先后顺序取得最合适的一行记录\n",
    "#比如以下例子中，取2015年4月的"
   ]
  },
  {
   "cell_type": "code",
   "execution_count": 27,
   "metadata": {},
   "outputs": [
    {
     "data": {
      "text/html": [
       "<div>\n",
       "<style scoped>\n",
       "    .dataframe tbody tr th:only-of-type {\n",
       "        vertical-align: middle;\n",
       "    }\n",
       "\n",
       "    .dataframe tbody tr th {\n",
       "        vertical-align: top;\n",
       "    }\n",
       "\n",
       "    .dataframe thead th {\n",
       "        text-align: right;\n",
       "    }\n",
       "</style>\n",
       "<table border=\"1\" class=\"dataframe\">\n",
       "  <thead>\n",
       "    <tr style=\"text-align: right;\">\n",
       "      <th></th>\n",
       "      <th>EID</th>\n",
       "      <th>AlterNumber</th>\n",
       "      <th>AlterDate</th>\n",
       "      <th>AlterBefore</th>\n",
       "      <th>AlterAfter</th>\n",
       "      <th>ALTDIFF</th>\n",
       "      <th>alt_05_sum</th>\n",
       "    </tr>\n",
       "  </thead>\n",
       "  <tbody>\n",
       "    <tr>\n",
       "      <th>22382</th>\n",
       "      <td>851646734</td>\n",
       "      <td>05</td>\n",
       "      <td>2015-04</td>\n",
       "      <td>3000.0</td>\n",
       "      <td>3260.0</td>\n",
       "      <td>260.0</td>\n",
       "      <td>560.0</td>\n",
       "    </tr>\n",
       "    <tr>\n",
       "      <th>22383</th>\n",
       "      <td>851646734</td>\n",
       "      <td>05</td>\n",
       "      <td>2014-04</td>\n",
       "      <td>2700.0</td>\n",
       "      <td>3000.0</td>\n",
       "      <td>300.0</td>\n",
       "      <td>560.0</td>\n",
       "    </tr>\n",
       "  </tbody>\n",
       "</table>\n",
       "</div>"
      ],
      "text/plain": [
       "             EID AlterNumber AlterDate  AlterBefore  AlterAfter  ALTDIFF  \\\n",
       "22382  851646734          05   2015-04       3000.0      3260.0    260.0   \n",
       "22383  851646734          05   2014-04       2700.0      3000.0    300.0   \n",
       "\n",
       "       alt_05_sum  \n",
       "22382       560.0  \n",
       "22383       560.0  "
      ]
     },
     "execution_count": 27,
     "metadata": {},
     "output_type": "execute_result"
    }
   ],
   "source": [
    "alter_05[alter_05['EID'] == 851646734]"
   ]
  },
  {
   "cell_type": "code",
   "execution_count": 28,
   "metadata": {
    "collapsed": true
   },
   "outputs": [],
   "source": [
    "def get_latest_alter(alter):\n",
    "    del alter['AlterNumber']\n",
    "    alter = alter.sort_values(['EID','AlterDate'], ascending=False)\n",
    "    alter['cumcount'] = alter.groupby(['EID']).cumcount()\n",
    "    alter = alter[alter['cumcount'] == 0]\n",
    "    del alter['cumcount']\n",
    "    return alter"
   ]
  },
  {
   "cell_type": "code",
   "execution_count": 29,
   "metadata": {},
   "outputs": [
    {
     "data": {
      "text/html": [
       "<div>\n",
       "<style scoped>\n",
       "    .dataframe tbody tr th:only-of-type {\n",
       "        vertical-align: middle;\n",
       "    }\n",
       "\n",
       "    .dataframe tbody tr th {\n",
       "        vertical-align: top;\n",
       "    }\n",
       "\n",
       "    .dataframe thead th {\n",
       "        text-align: right;\n",
       "    }\n",
       "</style>\n",
       "<table border=\"1\" class=\"dataframe\">\n",
       "  <thead>\n",
       "    <tr style=\"text-align: right;\">\n",
       "      <th></th>\n",
       "      <th>EID</th>\n",
       "      <th>AlterDate</th>\n",
       "      <th>AlterBefore</th>\n",
       "      <th>AlterAfter</th>\n",
       "      <th>ALTDIFF</th>\n",
       "      <th>alt_05_sum</th>\n",
       "    </tr>\n",
       "  </thead>\n",
       "  <tbody>\n",
       "    <tr>\n",
       "      <th>22382</th>\n",
       "      <td>851646734</td>\n",
       "      <td>2015-04</td>\n",
       "      <td>3000.0</td>\n",
       "      <td>3260.0</td>\n",
       "      <td>260.0</td>\n",
       "      <td>560.0</td>\n",
       "    </tr>\n",
       "  </tbody>\n",
       "</table>\n",
       "</div>"
      ],
      "text/plain": [
       "             EID AlterDate  AlterBefore  AlterAfter  ALTDIFF  alt_05_sum\n",
       "22382  851646734   2015-04       3000.0      3260.0    260.0       560.0"
      ]
     },
     "execution_count": 29,
     "metadata": {},
     "output_type": "execute_result"
    }
   ],
   "source": [
    "alter_05 = get_latest_alter(alter_05)\n",
    "alter_05[alter_05['EID'] == 851646734]"
   ]
  },
  {
   "cell_type": "code",
   "execution_count": 30,
   "metadata": {
    "collapsed": true
   },
   "outputs": [],
   "source": [
    "#最后，这张表中的日期是 yyyy-mm的形式，为了转化为数字特征\n",
    "#我们做进一步的处理: 拆成年 和  月"
   ]
  },
  {
   "cell_type": "code",
   "execution_count": 31,
   "metadata": {},
   "outputs": [
    {
     "data": {
      "text/html": [
       "<div>\n",
       "<style scoped>\n",
       "    .dataframe tbody tr th:only-of-type {\n",
       "        vertical-align: middle;\n",
       "    }\n",
       "\n",
       "    .dataframe tbody tr th {\n",
       "        vertical-align: top;\n",
       "    }\n",
       "\n",
       "    .dataframe thead th {\n",
       "        text-align: right;\n",
       "    }\n",
       "</style>\n",
       "<table border=\"1\" class=\"dataframe\">\n",
       "  <thead>\n",
       "    <tr style=\"text-align: right;\">\n",
       "      <th></th>\n",
       "      <th>EID</th>\n",
       "      <th>AlterBefore</th>\n",
       "      <th>AlterAfter</th>\n",
       "      <th>ALTDIFF</th>\n",
       "      <th>alt_05_sum</th>\n",
       "      <th>alter_05_year</th>\n",
       "      <th>alter_05_month</th>\n",
       "    </tr>\n",
       "  </thead>\n",
       "  <tbody>\n",
       "    <tr>\n",
       "      <th>19652</th>\n",
       "      <td>1465175824</td>\n",
       "      <td>50.0</td>\n",
       "      <td>300.0</td>\n",
       "      <td>250.0</td>\n",
       "      <td>250.0</td>\n",
       "      <td>2015</td>\n",
       "      <td>3</td>\n",
       "    </tr>\n",
       "    <tr>\n",
       "      <th>7613</th>\n",
       "      <td>1465170707</td>\n",
       "      <td>100.0</td>\n",
       "      <td>300.0</td>\n",
       "      <td>200.0</td>\n",
       "      <td>200.0</td>\n",
       "      <td>2015</td>\n",
       "      <td>1</td>\n",
       "    </tr>\n",
       "    <tr>\n",
       "      <th>6779</th>\n",
       "      <td>1465110513</td>\n",
       "      <td>10.0</td>\n",
       "      <td>50.0</td>\n",
       "      <td>40.0</td>\n",
       "      <td>40.0</td>\n",
       "      <td>2014</td>\n",
       "      <td>4</td>\n",
       "    </tr>\n",
       "    <tr>\n",
       "      <th>19378</th>\n",
       "      <td>1464980325</td>\n",
       "      <td>50.0</td>\n",
       "      <td>200.0</td>\n",
       "      <td>150.0</td>\n",
       "      <td>150.0</td>\n",
       "      <td>2014</td>\n",
       "      <td>12</td>\n",
       "    </tr>\n",
       "    <tr>\n",
       "      <th>6977</th>\n",
       "      <td>1464980096</td>\n",
       "      <td>500.0</td>\n",
       "      <td>1500.0</td>\n",
       "      <td>1000.0</td>\n",
       "      <td>1000.0</td>\n",
       "      <td>2014</td>\n",
       "      <td>8</td>\n",
       "    </tr>\n",
       "  </tbody>\n",
       "</table>\n",
       "</div>"
      ],
      "text/plain": [
       "              EID  AlterBefore  AlterAfter  ALTDIFF  alt_05_sum  \\\n",
       "19652  1465175824         50.0       300.0    250.0       250.0   \n",
       "7613   1465170707        100.0       300.0    200.0       200.0   \n",
       "6779   1465110513         10.0        50.0     40.0        40.0   \n",
       "19378  1464980325         50.0       200.0    150.0       150.0   \n",
       "6977   1464980096        500.0      1500.0   1000.0      1000.0   \n",
       "\n",
       "       alter_05_year  alter_05_month  \n",
       "19652           2015               3  \n",
       "7613            2015               1  \n",
       "6779            2014               4  \n",
       "19378           2014              12  \n",
       "6977            2014               8  "
      ]
     },
     "execution_count": 31,
     "metadata": {},
     "output_type": "execute_result"
    }
   ],
   "source": [
    "alter_05['alter_05_year'] = alter_05['AlterDate'].str.split('-').str[0].apply(lambda x: int(x))\n",
    "alter_05['alter_05_month'] = alter_05['AlterDate'].str.split('-').str[1].apply(lambda x: int(x))\n",
    "del alter_05['AlterDate']\n",
    "alter_05.head()"
   ]
  },
  {
   "cell_type": "code",
   "execution_count": 32,
   "metadata": {
    "collapsed": true
   },
   "outputs": [],
   "source": [
    "alter_05.rename(columns=lambda x:x.replace('ALTDIFF','ALTDIFF05'), inplace=True)"
   ]
  },
  {
   "cell_type": "code",
   "execution_count": 33,
   "metadata": {
    "collapsed": true
   },
   "outputs": [],
   "source": [
    "#同样的步骤，对alter no 为27时的数据，再做一遍\n",
    "#复制一遍代码"
   ]
  },
  {
   "cell_type": "code",
   "execution_count": 34,
   "metadata": {
    "collapsed": true
   },
   "outputs": [],
   "source": [
    "alter_27 = alter[alter['AlterNumber'] == '27']\n",
    "alter_27_sum = alter_27.groupby(['EID'])['ALTDIFF'].sum().reset_index()\n",
    "alter_27_sum.columns = ['EID', 'alt_27_sum']\n",
    "alter_27 = pd.merge(alter_27,alter_27_sum,how='left',on='EID')\n",
    "alter_27 = get_latest_alter(alter_27)\n",
    "alter_27['alter_27_year'] = alter_27['AlterDate'].str.split('-').str[0].apply(lambda x: int(x))\n",
    "alter_27['alter_27_month'] = alter_27['AlterDate'].str.split('-').str[1].apply(lambda x: int(x))\n",
    "del alter_27['AlterDate']\n",
    "alter_27.rename(columns=lambda x:x.replace('ALTDIFF','ALTDIFF27'), inplace=True)"
   ]
  },
  {
   "cell_type": "code",
   "execution_count": 35,
   "metadata": {
    "collapsed": true
   },
   "outputs": [],
   "source": [
    "#对于这类有重复的代码，可以写成函数"
   ]
  },
  {
   "cell_type": "markdown",
   "metadata": {},
   "source": [
    "#### Alter主表"
   ]
  },
  {
   "cell_type": "code",
   "execution_count": 36,
   "metadata": {
    "collapsed": true
   },
   "outputs": [],
   "source": [
    "#回到完整的alter表，除了05 27时的变更数量特征，还有哪些特征可以挖掘？"
   ]
  },
  {
   "cell_type": "code",
   "execution_count": 37,
   "metadata": {
    "collapsed": true
   },
   "outputs": [],
   "source": [
    "def divide_alter(alter,le):\n",
    "    le.fit(alter['ALTERNO'])\n",
    "    alter['ALTERNO'] = le.transform(alter['ALTERNO']) \n",
    "    alter = alter.sort_values(['EID','ALTDATE'], ascending=True)\n",
    "    alter['alt_year'] = alter['ALTDATE'].str.split('-').str[0].apply(lambda x: int(x))\n",
    "    alter['alt_month'] = alter['ALTDATE'].str.split('-').str[1].apply(lambda x: int(x))\n",
    "    alter = get_alter_year_count(alter,'alter_count_2015','alt_year',2015)\n",
    "    for i in range(12):\n",
    "        alter = divide_alter_no(alter, i)\n",
    "    alter['alter_count'] = alter.groupby(['EID']).cumcount() + 1\n",
    "    idx = alter.groupby(['EID'])['alter_count'].transform(max) == alter['alter_count']\n",
    "    alter = alter[idx]\n",
    "    alter['alt_gap_month'] = (2016 - alter['alt_year']) * 12 + 12 - alter['alt_month'] + 8\n",
    "    alter = alter.drop(['alt_year','alt_month','ALTAF','ALTBE','ALTERNO','ALTDATE'], axis = 1)\n",
    "    return alter,le"
   ]
  },
  {
   "cell_type": "code",
   "execution_count": 38,
   "metadata": {
    "collapsed": true
   },
   "outputs": [],
   "source": [
    "alter = alter_raw.copy()"
   ]
  },
  {
   "cell_type": "code",
   "execution_count": 39,
   "metadata": {},
   "outputs": [
    {
     "data": {
      "text/plain": [
       "array(['13', '03', '10', '12', '05', '01', '02', '04', '99', '27',\n",
       "       'A_015', '14'], dtype=object)"
      ]
     },
     "execution_count": 39,
     "metadata": {},
     "output_type": "execute_result"
    }
   ],
   "source": [
    "alter['AlterNumber'].unique()"
   ]
  },
  {
   "cell_type": "code",
   "execution_count": 40,
   "metadata": {
    "collapsed": true
   },
   "outputs": [],
   "source": [
    "le = preprocessing.LabelEncoder()\n",
    "le.fit(alter['AlterNumber'])\n",
    "alter['AlterNumber'] = le.transform(alter['AlterNumber']) "
   ]
  },
  {
   "cell_type": "code",
   "execution_count": 41,
   "metadata": {
    "collapsed": true
   },
   "outputs": [],
   "source": [
    "alter = alter.sort_values(['EID','AlterDate'], ascending=True)\n",
    "alter['alt_year'] = alter['AlterDate'].str.split('-').str[0].apply(lambda x: int(x))\n",
    "alter['alt_month'] = alter['AlterDate'].str.split('-').str[1].apply(lambda x: int(x))"
   ]
  },
  {
   "cell_type": "code",
   "execution_count": 42,
   "metadata": {
    "scrolled": true
   },
   "outputs": [
    {
     "data": {
      "text/html": [
       "<div>\n",
       "<style scoped>\n",
       "    .dataframe tbody tr th:only-of-type {\n",
       "        vertical-align: middle;\n",
       "    }\n",
       "\n",
       "    .dataframe tbody tr th {\n",
       "        vertical-align: top;\n",
       "    }\n",
       "\n",
       "    .dataframe thead th {\n",
       "        text-align: right;\n",
       "    }\n",
       "</style>\n",
       "<table border=\"1\" class=\"dataframe\">\n",
       "  <thead>\n",
       "    <tr style=\"text-align: right;\">\n",
       "      <th></th>\n",
       "      <th>EID</th>\n",
       "      <th>AlterNumber</th>\n",
       "      <th>AlterDate</th>\n",
       "      <th>AlterBefore</th>\n",
       "      <th>AlterAfter</th>\n",
       "      <th>alt_year</th>\n",
       "      <th>alt_month</th>\n",
       "    </tr>\n",
       "  </thead>\n",
       "  <tbody>\n",
       "    <tr>\n",
       "      <th>171703</th>\n",
       "      <td>83801</td>\n",
       "      <td>6</td>\n",
       "      <td>2015-06</td>\n",
       "      <td>NaN</td>\n",
       "      <td>NaN</td>\n",
       "      <td>2015</td>\n",
       "      <td>6</td>\n",
       "    </tr>\n",
       "    <tr>\n",
       "      <th>171707</th>\n",
       "      <td>83801</td>\n",
       "      <td>11</td>\n",
       "      <td>2015-06</td>\n",
       "      <td>NaN</td>\n",
       "      <td>NaN</td>\n",
       "      <td>2015</td>\n",
       "      <td>6</td>\n",
       "    </tr>\n",
       "    <tr>\n",
       "      <th>171708</th>\n",
       "      <td>83801</td>\n",
       "      <td>5</td>\n",
       "      <td>2015-06</td>\n",
       "      <td>NaN</td>\n",
       "      <td>NaN</td>\n",
       "      <td>2015</td>\n",
       "      <td>6</td>\n",
       "    </tr>\n",
       "    <tr>\n",
       "      <th>171710</th>\n",
       "      <td>83801</td>\n",
       "      <td>2</td>\n",
       "      <td>2015-06</td>\n",
       "      <td>NaN</td>\n",
       "      <td>NaN</td>\n",
       "      <td>2015</td>\n",
       "      <td>6</td>\n",
       "    </tr>\n",
       "    <tr>\n",
       "      <th>171711</th>\n",
       "      <td>83801</td>\n",
       "      <td>0</td>\n",
       "      <td>2015-06</td>\n",
       "      <td>NaN</td>\n",
       "      <td>NaN</td>\n",
       "      <td>2015</td>\n",
       "      <td>6</td>\n",
       "    </tr>\n",
       "  </tbody>\n",
       "</table>\n",
       "</div>"
      ],
      "text/plain": [
       "          EID  AlterNumber AlterDate AlterBefore AlterAfter  alt_year  \\\n",
       "171703  83801            6   2015-06         NaN        NaN      2015   \n",
       "171707  83801           11   2015-06         NaN        NaN      2015   \n",
       "171708  83801            5   2015-06         NaN        NaN      2015   \n",
       "171710  83801            2   2015-06         NaN        NaN      2015   \n",
       "171711  83801            0   2015-06         NaN        NaN      2015   \n",
       "\n",
       "        alt_month  \n",
       "171703          6  \n",
       "171707          6  \n",
       "171708          6  \n",
       "171710          6  \n",
       "171711          6  "
      ]
     },
     "execution_count": 42,
     "metadata": {},
     "output_type": "execute_result"
    }
   ],
   "source": [
    "alter[(alter['alt_year'] == 2015)&(alter['EID'] == 83801)]"
   ]
  },
  {
   "cell_type": "code",
   "execution_count": 43,
   "metadata": {},
   "outputs": [
    {
     "data": {
      "text/html": [
       "<div>\n",
       "<style scoped>\n",
       "    .dataframe tbody tr th:only-of-type {\n",
       "        vertical-align: middle;\n",
       "    }\n",
       "\n",
       "    .dataframe tbody tr th {\n",
       "        vertical-align: top;\n",
       "    }\n",
       "\n",
       "    .dataframe thead th {\n",
       "        text-align: right;\n",
       "    }\n",
       "</style>\n",
       "<table border=\"1\" class=\"dataframe\">\n",
       "  <thead>\n",
       "    <tr style=\"text-align: right;\">\n",
       "      <th></th>\n",
       "      <th>EID</th>\n",
       "      <th>year_count</th>\n",
       "    </tr>\n",
       "  </thead>\n",
       "  <tbody>\n",
       "    <tr>\n",
       "      <th>0</th>\n",
       "      <td>26268</td>\n",
       "      <td>1</td>\n",
       "    </tr>\n",
       "    <tr>\n",
       "      <th>1</th>\n",
       "      <td>59589</td>\n",
       "      <td>1</td>\n",
       "    </tr>\n",
       "    <tr>\n",
       "      <th>2</th>\n",
       "      <td>83669</td>\n",
       "      <td>1</td>\n",
       "    </tr>\n",
       "    <tr>\n",
       "      <th>3</th>\n",
       "      <td>83766</td>\n",
       "      <td>1</td>\n",
       "    </tr>\n",
       "    <tr>\n",
       "      <th>4</th>\n",
       "      <td>83801</td>\n",
       "      <td>5</td>\n",
       "    </tr>\n",
       "  </tbody>\n",
       "</table>\n",
       "</div>"
      ],
      "text/plain": [
       "     EID  year_count\n",
       "0  26268           1\n",
       "1  59589           1\n",
       "2  83669           1\n",
       "3  83766           1\n",
       "4  83801           5"
      ]
     },
     "execution_count": 43,
     "metadata": {},
     "output_type": "execute_result"
    }
   ],
   "source": [
    "alter['year_count'] = 1\n",
    "alter_tmp = alter[alter['alt_year'] == 2015].groupby(['EID'])['year_count'].sum().reset_index()\n",
    "del alter['year_count']\n",
    "alter_tmp.head()"
   ]
  },
  {
   "cell_type": "code",
   "execution_count": 44,
   "metadata": {
    "collapsed": true
   },
   "outputs": [],
   "source": [
    "#将以上信息聚合到alter主表中，我们就得到了，一个企业（EID）下，2015年的变更总次数\n",
    "#将这些步骤整合成函数：\n",
    "def get_alter_year_count(df,col_name,year_col_name,year):\n",
    "    df['tmp'] = 1\n",
    "    df_tmp = df[df[year_col_name] == year].groupby(['EID'])['tmp'].sum()\n",
    "    df_tmp = pd.DataFrame({'EID':df_tmp.index, col_name:df_tmp.values})\n",
    "    del df['tmp']\n",
    "    df = pd.merge(df, df_tmp, how='left', on='EID')\n",
    "    #对于2015年没记录的企业，空值填充为0 （实际意义）\n",
    "    df[col_name] = df[col_name].fillna(0)\n",
    "    return df"
   ]
  },
  {
   "cell_type": "code",
   "execution_count": 45,
   "metadata": {
    "collapsed": true
   },
   "outputs": [],
   "source": [
    "# alter = get_alter_year_count(alter,'alter_count_2013','alt_year',2013)\n",
    "# alter = get_alter_year_count(alter,'alter_count_2014','alt_year',2014)\n",
    "alter = get_alter_year_count(alter,'alter_count_2015','alt_year',2015)"
   ]
  },
  {
   "cell_type": "code",
   "execution_count": 46,
   "metadata": {
    "collapsed": true
   },
   "outputs": [],
   "source": [
    "def divide_alter_no(df, num):\n",
    "    col_name = 'alter_count_' + str(num)\n",
    "    df[col_name] = 0\n",
    "    df[col_name][df['AlterNumber'] == num] = 1\n",
    "    df_tmp = df.groupby(['EID'])[col_name].sum()\n",
    "    df_tmp = pd.DataFrame({'EID':df_tmp.index, col_name:df_tmp.values})\n",
    "    del df[col_name]\n",
    "    df = pd.merge(df, df_tmp, how='left', on='EID')\n",
    "    return df"
   ]
  },
  {
   "cell_type": "code",
   "execution_count": 47,
   "metadata": {
    "collapsed": true
   },
   "outputs": [],
   "source": [
    "# for i in range(12):\n",
    "#     alter = divide_alter_no(alter, i)"
   ]
  },
  {
   "cell_type": "code",
   "execution_count": 48,
   "metadata": {
    "collapsed": true
   },
   "outputs": [],
   "source": [
    "#同样地，为了得到一家企业的信息，需要对alter表进行聚合，\n",
    "#再统计得到一家企业全部年份的变更次数值，然后直接按照变更次数排序，取出最后一行记录\n",
    "alter['alter_count'] = alter.groupby(['EID']).cumcount() + 1\n",
    "idx = alter.groupby(['EID'])['alter_count'].transform(max) == alter['alter_count']\n",
    "alter = alter[idx]"
   ]
  },
  {
   "cell_type": "code",
   "execution_count": 49,
   "metadata": {
    "scrolled": true
   },
   "outputs": [
    {
     "data": {
      "text/html": [
       "<div>\n",
       "<style scoped>\n",
       "    .dataframe tbody tr th:only-of-type {\n",
       "        vertical-align: middle;\n",
       "    }\n",
       "\n",
       "    .dataframe tbody tr th {\n",
       "        vertical-align: top;\n",
       "    }\n",
       "\n",
       "    .dataframe thead th {\n",
       "        text-align: right;\n",
       "    }\n",
       "</style>\n",
       "<table border=\"1\" class=\"dataframe\">\n",
       "  <thead>\n",
       "    <tr style=\"text-align: right;\">\n",
       "      <th></th>\n",
       "      <th>EID</th>\n",
       "      <th>AlterNumber</th>\n",
       "      <th>AlterDate</th>\n",
       "      <th>AlterBefore</th>\n",
       "      <th>AlterAfter</th>\n",
       "      <th>alt_year</th>\n",
       "      <th>alt_month</th>\n",
       "      <th>alter_count_2015</th>\n",
       "      <th>alter_count</th>\n",
       "    </tr>\n",
       "  </thead>\n",
       "  <tbody>\n",
       "    <tr>\n",
       "      <th>0</th>\n",
       "      <td>26171</td>\n",
       "      <td>6</td>\n",
       "      <td>2014-02</td>\n",
       "      <td>NaN</td>\n",
       "      <td>NaN</td>\n",
       "      <td>2014</td>\n",
       "      <td>2</td>\n",
       "      <td>0.0</td>\n",
       "      <td>1</td>\n",
       "    </tr>\n",
       "    <tr>\n",
       "      <th>1</th>\n",
       "      <td>26268</td>\n",
       "      <td>6</td>\n",
       "      <td>2015-03</td>\n",
       "      <td>NaN</td>\n",
       "      <td>NaN</td>\n",
       "      <td>2015</td>\n",
       "      <td>3</td>\n",
       "      <td>1.0</td>\n",
       "      <td>1</td>\n",
       "    </tr>\n",
       "    <tr>\n",
       "      <th>12</th>\n",
       "      <td>26330</td>\n",
       "      <td>5</td>\n",
       "      <td>2014-08</td>\n",
       "      <td>NaN</td>\n",
       "      <td>NaN</td>\n",
       "      <td>2014</td>\n",
       "      <td>8</td>\n",
       "      <td>0.0</td>\n",
       "      <td>11</td>\n",
       "    </tr>\n",
       "    <tr>\n",
       "      <th>14</th>\n",
       "      <td>26594</td>\n",
       "      <td>3</td>\n",
       "      <td>2014-09</td>\n",
       "      <td>NaN</td>\n",
       "      <td>NaN</td>\n",
       "      <td>2014</td>\n",
       "      <td>9</td>\n",
       "      <td>0.0</td>\n",
       "      <td>2</td>\n",
       "    </tr>\n",
       "    <tr>\n",
       "      <th>15</th>\n",
       "      <td>59589</td>\n",
       "      <td>4</td>\n",
       "      <td>2015-07</td>\n",
       "      <td>100</td>\n",
       "      <td>500</td>\n",
       "      <td>2015</td>\n",
       "      <td>7</td>\n",
       "      <td>1.0</td>\n",
       "      <td>1</td>\n",
       "    </tr>\n",
       "  </tbody>\n",
       "</table>\n",
       "</div>"
      ],
      "text/plain": [
       "      EID  AlterNumber AlterDate AlterBefore AlterAfter  alt_year  alt_month  \\\n",
       "0   26171            6   2014-02         NaN        NaN      2014          2   \n",
       "1   26268            6   2015-03         NaN        NaN      2015          3   \n",
       "12  26330            5   2014-08         NaN        NaN      2014          8   \n",
       "14  26594            3   2014-09         NaN        NaN      2014          9   \n",
       "15  59589            4   2015-07         100        500      2015          7   \n",
       "\n",
       "    alter_count_2015  alter_count  \n",
       "0                0.0            1  \n",
       "1                1.0            1  \n",
       "12               0.0           11  \n",
       "14               0.0            2  \n",
       "15               1.0            1  "
      ]
     },
     "execution_count": 49,
     "metadata": {},
     "output_type": "execute_result"
    }
   ],
   "source": [
    "alter.head()"
   ]
  },
  {
   "cell_type": "code",
   "execution_count": 50,
   "metadata": {
    "collapsed": true
   },
   "outputs": [],
   "source": [
    "alter = alter.drop(['AlterNumber','AlterDate','AlterBefore','AlterAfter'], axis = 1)"
   ]
  },
  {
   "cell_type": "markdown",
   "metadata": {},
   "source": [
    "#### 最后，将05 27的变更信息整合起来，得到最终的变更特征表"
   ]
  },
  {
   "cell_type": "code",
   "execution_count": 51,
   "metadata": {
    "collapsed": true
   },
   "outputs": [],
   "source": [
    "alter_05 = alter_05.drop(['AlterBefore','AlterAfter'], axis = 1)\n",
    "alter_27 = alter_27.drop(['AlterBefore','AlterAfter'], axis = 1)"
   ]
  },
  {
   "cell_type": "code",
   "execution_count": 52,
   "metadata": {
    "collapsed": true
   },
   "outputs": [],
   "source": [
    "alter = pd.merge(alter, alter_05, how='left', on='EID')\n",
    "alter = pd.merge(alter, alter_27, how='left', on='EID')"
   ]
  },
  {
   "cell_type": "code",
   "execution_count": 53,
   "metadata": {},
   "outputs": [
    {
     "data": {
      "text/html": [
       "<div>\n",
       "<style scoped>\n",
       "    .dataframe tbody tr th:only-of-type {\n",
       "        vertical-align: middle;\n",
       "    }\n",
       "\n",
       "    .dataframe tbody tr th {\n",
       "        vertical-align: top;\n",
       "    }\n",
       "\n",
       "    .dataframe thead th {\n",
       "        text-align: right;\n",
       "    }\n",
       "</style>\n",
       "<table border=\"1\" class=\"dataframe\">\n",
       "  <thead>\n",
       "    <tr style=\"text-align: right;\">\n",
       "      <th></th>\n",
       "      <th>EID</th>\n",
       "      <th>alt_year</th>\n",
       "      <th>alt_month</th>\n",
       "      <th>alter_count_2015</th>\n",
       "      <th>alter_count</th>\n",
       "      <th>ALTDIFF05</th>\n",
       "      <th>alt_05_sum</th>\n",
       "      <th>alter_05_year</th>\n",
       "      <th>alter_05_month</th>\n",
       "      <th>ALTDIFF27</th>\n",
       "      <th>alt_27_sum</th>\n",
       "      <th>alter_27_year</th>\n",
       "      <th>alter_27_month</th>\n",
       "    </tr>\n",
       "  </thead>\n",
       "  <tbody>\n",
       "    <tr>\n",
       "      <th>0</th>\n",
       "      <td>26171</td>\n",
       "      <td>2014</td>\n",
       "      <td>2</td>\n",
       "      <td>0.0</td>\n",
       "      <td>1</td>\n",
       "      <td>NaN</td>\n",
       "      <td>NaN</td>\n",
       "      <td>NaN</td>\n",
       "      <td>NaN</td>\n",
       "      <td>NaN</td>\n",
       "      <td>NaN</td>\n",
       "      <td>NaN</td>\n",
       "      <td>NaN</td>\n",
       "    </tr>\n",
       "    <tr>\n",
       "      <th>1</th>\n",
       "      <td>26268</td>\n",
       "      <td>2015</td>\n",
       "      <td>3</td>\n",
       "      <td>1.0</td>\n",
       "      <td>1</td>\n",
       "      <td>NaN</td>\n",
       "      <td>NaN</td>\n",
       "      <td>NaN</td>\n",
       "      <td>NaN</td>\n",
       "      <td>NaN</td>\n",
       "      <td>NaN</td>\n",
       "      <td>NaN</td>\n",
       "      <td>NaN</td>\n",
       "    </tr>\n",
       "    <tr>\n",
       "      <th>2</th>\n",
       "      <td>26330</td>\n",
       "      <td>2014</td>\n",
       "      <td>8</td>\n",
       "      <td>0.0</td>\n",
       "      <td>11</td>\n",
       "      <td>NaN</td>\n",
       "      <td>NaN</td>\n",
       "      <td>NaN</td>\n",
       "      <td>NaN</td>\n",
       "      <td>NaN</td>\n",
       "      <td>NaN</td>\n",
       "      <td>NaN</td>\n",
       "      <td>NaN</td>\n",
       "    </tr>\n",
       "    <tr>\n",
       "      <th>3</th>\n",
       "      <td>26594</td>\n",
       "      <td>2014</td>\n",
       "      <td>9</td>\n",
       "      <td>0.0</td>\n",
       "      <td>2</td>\n",
       "      <td>NaN</td>\n",
       "      <td>NaN</td>\n",
       "      <td>NaN</td>\n",
       "      <td>NaN</td>\n",
       "      <td>NaN</td>\n",
       "      <td>NaN</td>\n",
       "      <td>NaN</td>\n",
       "      <td>NaN</td>\n",
       "    </tr>\n",
       "    <tr>\n",
       "      <th>4</th>\n",
       "      <td>59589</td>\n",
       "      <td>2015</td>\n",
       "      <td>7</td>\n",
       "      <td>1.0</td>\n",
       "      <td>1</td>\n",
       "      <td>400.0</td>\n",
       "      <td>400.0</td>\n",
       "      <td>2015.0</td>\n",
       "      <td>7.0</td>\n",
       "      <td>NaN</td>\n",
       "      <td>NaN</td>\n",
       "      <td>NaN</td>\n",
       "      <td>NaN</td>\n",
       "    </tr>\n",
       "  </tbody>\n",
       "</table>\n",
       "</div>"
      ],
      "text/plain": [
       "     EID  alt_year  alt_month  alter_count_2015  alter_count  ALTDIFF05  \\\n",
       "0  26171      2014          2               0.0            1        NaN   \n",
       "1  26268      2015          3               1.0            1        NaN   \n",
       "2  26330      2014          8               0.0           11        NaN   \n",
       "3  26594      2014          9               0.0            2        NaN   \n",
       "4  59589      2015          7               1.0            1      400.0   \n",
       "\n",
       "   alt_05_sum  alter_05_year  alter_05_month  ALTDIFF27  alt_27_sum  \\\n",
       "0         NaN            NaN             NaN        NaN         NaN   \n",
       "1         NaN            NaN             NaN        NaN         NaN   \n",
       "2         NaN            NaN             NaN        NaN         NaN   \n",
       "3         NaN            NaN             NaN        NaN         NaN   \n",
       "4       400.0         2015.0             7.0        NaN         NaN   \n",
       "\n",
       "   alter_27_year  alter_27_month  \n",
       "0            NaN             NaN  \n",
       "1            NaN             NaN  \n",
       "2            NaN             NaN  \n",
       "3            NaN             NaN  \n",
       "4            NaN             NaN  "
      ]
     },
     "execution_count": 53,
     "metadata": {},
     "output_type": "execute_result"
    }
   ],
   "source": [
    "alter.head()"
   ]
  },
  {
   "cell_type": "markdown",
   "metadata": {},
   "source": [
    "### Branch"
   ]
  },
  {
   "cell_type": "code",
   "execution_count": 54,
   "metadata": {
    "collapsed": true
   },
   "outputs": [],
   "source": [
    "branch_raw = branch_raw.drop_duplicates()\n",
    "branch = branch_raw.copy()"
   ]
  },
  {
   "cell_type": "code",
   "execution_count": 55,
   "metadata": {
    "collapsed": true
   },
   "outputs": [],
   "source": [
    "#先检查注册年份 和 倒闭年份 直接 有没有逻辑错误"
   ]
  },
  {
   "cell_type": "code",
   "execution_count": 56,
   "metadata": {},
   "outputs": [
    {
     "data": {
      "text/html": [
       "<div>\n",
       "<style scoped>\n",
       "    .dataframe tbody tr th:only-of-type {\n",
       "        vertical-align: middle;\n",
       "    }\n",
       "\n",
       "    .dataframe tbody tr th {\n",
       "        vertical-align: top;\n",
       "    }\n",
       "\n",
       "    .dataframe thead th {\n",
       "        text-align: right;\n",
       "    }\n",
       "</style>\n",
       "<table border=\"1\" class=\"dataframe\">\n",
       "  <thead>\n",
       "    <tr style=\"text-align: right;\">\n",
       "      <th></th>\n",
       "      <th>EID</th>\n",
       "      <th>BranchEID</th>\n",
       "      <th>SameProvince</th>\n",
       "      <th>RegYear</th>\n",
       "      <th>CloseYear</th>\n",
       "    </tr>\n",
       "  </thead>\n",
       "  <tbody>\n",
       "    <tr>\n",
       "      <th>3125</th>\n",
       "      <td>788813847</td>\n",
       "      <td>pbr9998</td>\n",
       "      <td>0</td>\n",
       "      <td>2003</td>\n",
       "      <td>1998.0</td>\n",
       "    </tr>\n",
       "    <tr>\n",
       "      <th>4793</th>\n",
       "      <td>40352956</td>\n",
       "      <td>pbr14948</td>\n",
       "      <td>0</td>\n",
       "      <td>2004</td>\n",
       "      <td>2002.0</td>\n",
       "    </tr>\n",
       "    <tr>\n",
       "      <th>6292</th>\n",
       "      <td>1176563327</td>\n",
       "      <td>pbr15249</td>\n",
       "      <td>1</td>\n",
       "      <td>2005</td>\n",
       "      <td>1950.0</td>\n",
       "    </tr>\n",
       "    <tr>\n",
       "      <th>7033</th>\n",
       "      <td>1204284370</td>\n",
       "      <td>pbr34186</td>\n",
       "      <td>0</td>\n",
       "      <td>2005</td>\n",
       "      <td>1999.0</td>\n",
       "    </tr>\n",
       "    <tr>\n",
       "      <th>11374</th>\n",
       "      <td>1447052230</td>\n",
       "      <td>pbr30393</td>\n",
       "      <td>1</td>\n",
       "      <td>1996</td>\n",
       "      <td>1950.0</td>\n",
       "    </tr>\n",
       "  </tbody>\n",
       "</table>\n",
       "</div>"
      ],
      "text/plain": [
       "              EID BranchEID  SameProvince  RegYear  CloseYear\n",
       "3125    788813847   pbr9998             0     2003     1998.0\n",
       "4793     40352956  pbr14948             0     2004     2002.0\n",
       "6292   1176563327  pbr15249             1     2005     1950.0\n",
       "7033   1204284370  pbr34186             0     2005     1999.0\n",
       "11374  1447052230  pbr30393             1     1996     1950.0"
      ]
     },
     "execution_count": 56,
     "metadata": {},
     "output_type": "execute_result"
    }
   ],
   "source": [
    "branch[branch.CloseYear < branch.RegYear].head()"
   ]
  },
  {
   "cell_type": "code",
   "execution_count": 57,
   "metadata": {
    "collapsed": true
   },
   "outputs": [],
   "source": [
    "wrong_index = branch.CloseYear < branch.RegYear\n",
    "branch.loc[wrong_index,'CloseYear'], branch.loc[wrong_index, 'RegYear'] = \\\n",
    "branch.loc[wrong_index,'RegYear'], branch.loc[wrong_index,'CloseYear']"
   ]
  },
  {
   "cell_type": "code",
   "execution_count": 58,
   "metadata": {
    "collapsed": true
   },
   "outputs": [],
   "source": [
    "del branch['BranchEID']\n",
    "branch = branch.sort_values(['EID','RegYear'], ascending=True)"
   ]
  },
  {
   "cell_type": "code",
   "execution_count": 59,
   "metadata": {},
   "outputs": [
    {
     "data": {
      "text/html": [
       "<div>\n",
       "<style scoped>\n",
       "    .dataframe tbody tr th:only-of-type {\n",
       "        vertical-align: middle;\n",
       "    }\n",
       "\n",
       "    .dataframe tbody tr th {\n",
       "        vertical-align: top;\n",
       "    }\n",
       "\n",
       "    .dataframe thead th {\n",
       "        text-align: right;\n",
       "    }\n",
       "</style>\n",
       "<table border=\"1\" class=\"dataframe\">\n",
       "  <thead>\n",
       "    <tr style=\"text-align: right;\">\n",
       "      <th></th>\n",
       "      <th>EID</th>\n",
       "      <th>SameProvince</th>\n",
       "      <th>RegYear</th>\n",
       "      <th>CloseYear</th>\n",
       "      <th>branch_count</th>\n",
       "    </tr>\n",
       "  </thead>\n",
       "  <tbody>\n",
       "    <tr>\n",
       "      <th>26628</th>\n",
       "      <td>59590</td>\n",
       "      <td>1</td>\n",
       "      <td>2009.0</td>\n",
       "      <td>2012.0</td>\n",
       "      <td>1</td>\n",
       "    </tr>\n",
       "    <tr>\n",
       "      <th>66943</th>\n",
       "      <td>83669</td>\n",
       "      <td>0</td>\n",
       "      <td>2012.0</td>\n",
       "      <td>NaN</td>\n",
       "      <td>1</td>\n",
       "    </tr>\n",
       "    <tr>\n",
       "      <th>31528</th>\n",
       "      <td>103798</td>\n",
       "      <td>1</td>\n",
       "      <td>2001.0</td>\n",
       "      <td>2007.0</td>\n",
       "      <td>1</td>\n",
       "    </tr>\n",
       "    <tr>\n",
       "      <th>72250</th>\n",
       "      <td>103798</td>\n",
       "      <td>1</td>\n",
       "      <td>2002.0</td>\n",
       "      <td>NaN</td>\n",
       "      <td>2</td>\n",
       "    </tr>\n",
       "    <tr>\n",
       "      <th>38288</th>\n",
       "      <td>103798</td>\n",
       "      <td>1</td>\n",
       "      <td>2003.0</td>\n",
       "      <td>NaN</td>\n",
       "      <td>3</td>\n",
       "    </tr>\n",
       "  </tbody>\n",
       "</table>\n",
       "</div>"
      ],
      "text/plain": [
       "          EID  SameProvince  RegYear  CloseYear  branch_count\n",
       "26628   59590             1   2009.0     2012.0             1\n",
       "66943   83669             0   2012.0        NaN             1\n",
       "31528  103798             1   2001.0     2007.0             1\n",
       "72250  103798             1   2002.0        NaN             2\n",
       "38288  103798             1   2003.0        NaN             3"
      ]
     },
     "execution_count": 59,
     "metadata": {},
     "output_type": "execute_result"
    }
   ],
   "source": [
    "branch['branch_count'] = branch.groupby(['EID']).cumcount() + 1\n",
    "branch.head()"
   ]
  },
  {
   "cell_type": "code",
   "execution_count": 60,
   "metadata": {
    "collapsed": true
   },
   "outputs": [],
   "source": [
    "def get_annual_close(df, col_name, year_col_name, year):\n",
    "    df[col_name] = 0\n",
    "    df[col_name][(df[year_col_name].isnull() == False) & (df[year_col_name] <= year)] = 1\n",
    "    df_tmp = df.groupby(['EID'])[col_name].sum()\n",
    "    df_tmp = pd.DataFrame({'EID':df_tmp.index, col_name:df_tmp.values})\n",
    "    del df[col_name]\n",
    "    df = pd.merge(df, df_tmp, how='left', on='EID')\n",
    "    return df"
   ]
  },
  {
   "cell_type": "code",
   "execution_count": 61,
   "metadata": {
    "collapsed": true
   },
   "outputs": [],
   "source": [
    "branch = get_annual_close(branch, 'branch_end_count_2015', 'CloseYear', 2015)"
   ]
  },
  {
   "cell_type": "code",
   "execution_count": 62,
   "metadata": {},
   "outputs": [
    {
     "data": {
      "text/html": [
       "<div>\n",
       "<style scoped>\n",
       "    .dataframe tbody tr th:only-of-type {\n",
       "        vertical-align: middle;\n",
       "    }\n",
       "\n",
       "    .dataframe tbody tr th {\n",
       "        vertical-align: top;\n",
       "    }\n",
       "\n",
       "    .dataframe thead th {\n",
       "        text-align: right;\n",
       "    }\n",
       "</style>\n",
       "<table border=\"1\" class=\"dataframe\">\n",
       "  <thead>\n",
       "    <tr style=\"text-align: right;\">\n",
       "      <th></th>\n",
       "      <th>EID</th>\n",
       "      <th>SameProvince</th>\n",
       "      <th>RegYear</th>\n",
       "      <th>CloseYear</th>\n",
       "      <th>branch_count</th>\n",
       "      <th>branch_end_count_2015</th>\n",
       "    </tr>\n",
       "  </thead>\n",
       "  <tbody>\n",
       "    <tr>\n",
       "      <th>2</th>\n",
       "      <td>103798</td>\n",
       "      <td>1</td>\n",
       "      <td>2001.0</td>\n",
       "      <td>2007.0</td>\n",
       "      <td>1</td>\n",
       "      <td>2</td>\n",
       "    </tr>\n",
       "    <tr>\n",
       "      <th>3</th>\n",
       "      <td>103798</td>\n",
       "      <td>1</td>\n",
       "      <td>2002.0</td>\n",
       "      <td>NaN</td>\n",
       "      <td>2</td>\n",
       "      <td>2</td>\n",
       "    </tr>\n",
       "    <tr>\n",
       "      <th>4</th>\n",
       "      <td>103798</td>\n",
       "      <td>1</td>\n",
       "      <td>2003.0</td>\n",
       "      <td>NaN</td>\n",
       "      <td>3</td>\n",
       "      <td>2</td>\n",
       "    </tr>\n",
       "    <tr>\n",
       "      <th>5</th>\n",
       "      <td>103798</td>\n",
       "      <td>1</td>\n",
       "      <td>2006.0</td>\n",
       "      <td>2007.0</td>\n",
       "      <td>4</td>\n",
       "      <td>2</td>\n",
       "    </tr>\n",
       "  </tbody>\n",
       "</table>\n",
       "</div>"
      ],
      "text/plain": [
       "      EID  SameProvince  RegYear  CloseYear  branch_count  \\\n",
       "2  103798             1   2001.0     2007.0             1   \n",
       "3  103798             1   2002.0        NaN             2   \n",
       "4  103798             1   2003.0        NaN             3   \n",
       "5  103798             1   2006.0     2007.0             4   \n",
       "\n",
       "   branch_end_count_2015  \n",
       "2                      2  \n",
       "3                      2  \n",
       "4                      2  \n",
       "5                      2  "
      ]
     },
     "execution_count": 62,
     "metadata": {},
     "output_type": "execute_result"
    }
   ],
   "source": [
    "branch[branch['EID'] == 103798]"
   ]
  },
  {
   "cell_type": "code",
   "execution_count": 63,
   "metadata": {
    "collapsed": true
   },
   "outputs": [],
   "source": [
    "idx = branch.groupby(['EID'])['branch_count'].transform(max) == branch['branch_count']\n",
    "branch = branch[idx]\n",
    "branch.rename(columns=lambda x:x.replace('SameProvince','branch_same'), inplace=True)"
   ]
  },
  {
   "cell_type": "code",
   "execution_count": 64,
   "metadata": {
    "collapsed": true
   },
   "outputs": [],
   "source": [
    "branch['RegYear'] = 2018 - branch['RegYear']\n",
    "branch['CloseYear'] = 2018 - branch['CloseYear']"
   ]
  },
  {
   "cell_type": "markdown",
   "metadata": {},
   "source": [
    "### Dishonest"
   ]
  },
  {
   "cell_type": "code",
   "execution_count": 65,
   "metadata": {},
   "outputs": [
    {
     "data": {
      "text/plain": [
       "(2968, 4)"
      ]
     },
     "execution_count": 65,
     "metadata": {},
     "output_type": "execute_result"
    }
   ],
   "source": [
    "dishonest_raw = dishonest_raw.drop_duplicates()\n",
    "dishonest_raw.shape"
   ]
  },
  {
   "cell_type": "code",
   "execution_count": 66,
   "metadata": {},
   "outputs": [
    {
     "data": {
      "text/plain": [
       "1007"
      ]
     },
     "execution_count": 66,
     "metadata": {},
     "output_type": "execute_result"
    }
   ],
   "source": [
    "dishonest_raw.EID.nunique()"
   ]
  },
  {
   "cell_type": "code",
   "execution_count": 67,
   "metadata": {
    "scrolled": true
   },
   "outputs": [
    {
     "data": {
      "text/html": [
       "<div>\n",
       "<style scoped>\n",
       "    .dataframe tbody tr th:only-of-type {\n",
       "        vertical-align: middle;\n",
       "    }\n",
       "\n",
       "    .dataframe tbody tr th {\n",
       "        vertical-align: top;\n",
       "    }\n",
       "\n",
       "    .dataframe thead th {\n",
       "        text-align: right;\n",
       "    }\n",
       "</style>\n",
       "<table border=\"1\" class=\"dataframe\">\n",
       "  <thead>\n",
       "    <tr style=\"text-align: right;\">\n",
       "      <th></th>\n",
       "      <th>EID</th>\n",
       "      <th>DishonestID</th>\n",
       "      <th>RegDate</th>\n",
       "      <th>CloseDate</th>\n",
       "    </tr>\n",
       "  </thead>\n",
       "  <tbody>\n",
       "    <tr>\n",
       "      <th>0</th>\n",
       "      <td>782634767</td>\n",
       "      <td>432341</td>\n",
       "      <td>2014年08月</td>\n",
       "      <td>NaN</td>\n",
       "    </tr>\n",
       "    <tr>\n",
       "      <th>1</th>\n",
       "      <td>463954664</td>\n",
       "      <td>98741001</td>\n",
       "      <td>2015年03月</td>\n",
       "      <td>NaN</td>\n",
       "    </tr>\n",
       "    <tr>\n",
       "      <th>2</th>\n",
       "      <td>463954664</td>\n",
       "      <td>1349372</td>\n",
       "      <td>2015年03月</td>\n",
       "      <td>NaN</td>\n",
       "    </tr>\n",
       "    <tr>\n",
       "      <th>3</th>\n",
       "      <td>542420088</td>\n",
       "      <td>60556535</td>\n",
       "      <td>2014年10月</td>\n",
       "      <td>NaN</td>\n",
       "    </tr>\n",
       "    <tr>\n",
       "      <th>4</th>\n",
       "      <td>542420088</td>\n",
       "      <td>64318506</td>\n",
       "      <td>2014年10月</td>\n",
       "      <td>NaN</td>\n",
       "    </tr>\n",
       "  </tbody>\n",
       "</table>\n",
       "</div>"
      ],
      "text/plain": [
       "         EID  DishonestID   RegDate CloseDate\n",
       "0  782634767       432341  2014年08月       NaN\n",
       "1  463954664     98741001  2015年03月       NaN\n",
       "2  463954664      1349372  2015年03月       NaN\n",
       "3  542420088     60556535  2014年10月       NaN\n",
       "4  542420088     64318506  2014年10月       NaN"
      ]
     },
     "execution_count": 67,
     "metadata": {},
     "output_type": "execute_result"
    }
   ],
   "source": [
    "dishonest_raw.head()"
   ]
  },
  {
   "cell_type": "code",
   "execution_count": 68,
   "metadata": {
    "collapsed": true
   },
   "outputs": [],
   "source": [
    "dishonest = dishonest_raw.copy()"
   ]
  },
  {
   "cell_type": "code",
   "execution_count": 69,
   "metadata": {
    "collapsed": true
   },
   "outputs": [],
   "source": [
    "# 处理日期格式\n",
    "import re\n",
    "dishonest['RegYear'] = dishonest['RegDate'].apply(lambda x: int(x[:4]))\n",
    "dishonest['RegDate'] = dishonest['RegDate'].apply(lambda x: re.sub(\"\\D\", \"\", x)).apply(lambda x: int(x))\n",
    "dishonest['CloseDate'] = dishonest['CloseDate'].str.replace('-','')"
   ]
  },
  {
   "cell_type": "code",
   "execution_count": 70,
   "metadata": {},
   "outputs": [
    {
     "data": {
      "text/html": [
       "<div>\n",
       "<style scoped>\n",
       "    .dataframe tbody tr th:only-of-type {\n",
       "        vertical-align: middle;\n",
       "    }\n",
       "\n",
       "    .dataframe tbody tr th {\n",
       "        vertical-align: top;\n",
       "    }\n",
       "\n",
       "    .dataframe thead th {\n",
       "        text-align: right;\n",
       "    }\n",
       "</style>\n",
       "<table border=\"1\" class=\"dataframe\">\n",
       "  <thead>\n",
       "    <tr style=\"text-align: right;\">\n",
       "      <th></th>\n",
       "      <th>EID</th>\n",
       "      <th>DishonestID</th>\n",
       "      <th>RegDate</th>\n",
       "      <th>CloseDate</th>\n",
       "      <th>RegYear</th>\n",
       "    </tr>\n",
       "  </thead>\n",
       "  <tbody>\n",
       "    <tr>\n",
       "      <th>27</th>\n",
       "      <td>140291183</td>\n",
       "      <td>1265656</td>\n",
       "      <td>201503</td>\n",
       "      <td>201507</td>\n",
       "      <td>2015</td>\n",
       "    </tr>\n",
       "    <tr>\n",
       "      <th>30</th>\n",
       "      <td>866210991</td>\n",
       "      <td>915918</td>\n",
       "      <td>201412</td>\n",
       "      <td>201507</td>\n",
       "      <td>2014</td>\n",
       "    </tr>\n",
       "    <tr>\n",
       "      <th>234</th>\n",
       "      <td>1223289810</td>\n",
       "      <td>538385</td>\n",
       "      <td>201410</td>\n",
       "      <td>201507</td>\n",
       "      <td>2014</td>\n",
       "    </tr>\n",
       "    <tr>\n",
       "      <th>309</th>\n",
       "      <td>1053904529</td>\n",
       "      <td>652410</td>\n",
       "      <td>201411</td>\n",
       "      <td>201507</td>\n",
       "      <td>2014</td>\n",
       "    </tr>\n",
       "    <tr>\n",
       "      <th>324</th>\n",
       "      <td>409814216</td>\n",
       "      <td>571064</td>\n",
       "      <td>201409</td>\n",
       "      <td>201507</td>\n",
       "      <td>2014</td>\n",
       "    </tr>\n",
       "  </tbody>\n",
       "</table>\n",
       "</div>"
      ],
      "text/plain": [
       "            EID  DishonestID  RegDate CloseDate  RegYear\n",
       "27    140291183      1265656   201503    201507     2015\n",
       "30    866210991       915918   201412    201507     2014\n",
       "234  1223289810       538385   201410    201507     2014\n",
       "309  1053904529       652410   201411    201507     2014\n",
       "324   409814216       571064   201409    201507     2014"
      ]
     },
     "execution_count": 70,
     "metadata": {},
     "output_type": "execute_result"
    }
   ],
   "source": [
    "dishonest[dishonest.CloseDate.notnull()].head()"
   ]
  },
  {
   "cell_type": "code",
   "execution_count": 71,
   "metadata": {},
   "outputs": [
    {
     "data": {
      "text/plain": [
       "count    2968.000000\n",
       "mean     2014.496968\n",
       "std         0.564054\n",
       "min      2013.000000\n",
       "25%      2014.000000\n",
       "50%      2015.000000\n",
       "75%      2015.000000\n",
       "max      2015.000000\n",
       "Name: RegYear, dtype: float64"
      ]
     },
     "execution_count": 71,
     "metadata": {},
     "output_type": "execute_result"
    }
   ],
   "source": [
    "dishonest.RegYear.describe()"
   ]
  },
  {
   "cell_type": "code",
   "execution_count": 72,
   "metadata": {
    "collapsed": true
   },
   "outputs": [],
   "source": [
    "# 将非空的结束日期转化为数值\n",
    "dishonest['CloseDate'] = dishonest['CloseDate'][dishonest['CloseDate'].notnull()].apply(lambda x: int(x))"
   ]
  },
  {
   "cell_type": "code",
   "execution_count": 73,
   "metadata": {
    "scrolled": true
   },
   "outputs": [
    {
     "data": {
      "text/html": [
       "<div>\n",
       "<style scoped>\n",
       "    .dataframe tbody tr th:only-of-type {\n",
       "        vertical-align: middle;\n",
       "    }\n",
       "\n",
       "    .dataframe tbody tr th {\n",
       "        vertical-align: top;\n",
       "    }\n",
       "\n",
       "    .dataframe thead th {\n",
       "        text-align: right;\n",
       "    }\n",
       "</style>\n",
       "<table border=\"1\" class=\"dataframe\">\n",
       "  <thead>\n",
       "    <tr style=\"text-align: right;\">\n",
       "      <th></th>\n",
       "      <th>EID</th>\n",
       "      <th>DishonestID</th>\n",
       "      <th>RegDate</th>\n",
       "      <th>CloseDate</th>\n",
       "      <th>RegYear</th>\n",
       "    </tr>\n",
       "  </thead>\n",
       "  <tbody>\n",
       "    <tr>\n",
       "      <th>27</th>\n",
       "      <td>140291183</td>\n",
       "      <td>1265656</td>\n",
       "      <td>201503</td>\n",
       "      <td>201507.0</td>\n",
       "      <td>2015</td>\n",
       "    </tr>\n",
       "  </tbody>\n",
       "</table>\n",
       "</div>"
      ],
      "text/plain": [
       "          EID  DishonestID  RegDate  CloseDate  RegYear\n",
       "27  140291183      1265656   201503   201507.0     2015"
      ]
     },
     "execution_count": 73,
     "metadata": {},
     "output_type": "execute_result"
    }
   ],
   "source": [
    "dishonest[dishonest.EID==140291183]"
   ]
  },
  {
   "cell_type": "code",
   "execution_count": 74,
   "metadata": {
    "collapsed": true
   },
   "outputs": [],
   "source": [
    "# 最近三年每年内总共发生多少次失信记录\n",
    "# 最近三年总共发生多少次失信\n",
    "# 发生的失信记录中，有多少至今还未关闭"
   ]
  },
  {
   "cell_type": "code",
   "execution_count": 75,
   "metadata": {
    "collapsed": true
   },
   "outputs": [],
   "source": [
    "# 统计某一年发生的失信记录数\n",
    "def dishonest_count(df, group_key, filter_key, filter_value, agg_col, new_col_name):\n",
    "    new_df = df[df[filter_key]==filter_value].groupby(group_key).nunique()[[agg_col]]\n",
    "    # 重命名列，以避免merge时冲突\n",
    "    new_df.rename(columns=lambda x:x.replace(agg_col, new_col_name), inplace=True)\n",
    "    return pd.merge(df, new_df, left_on=group_key, right_index=True,how='left').fillna({new_col_name:0})\n",
    "\n",
    "# 统计还未注销的失信记录数\n",
    "def dishonest_unclose_count(df, group_key, filter_key, agg_col, new_col_name):\n",
    "    new_df = df[df[filter_key].isnull()].groupby(group_key).nunique()[[agg_col]]\n",
    "    # 重命名列，以避免merge时冲突\n",
    "    new_df.rename(columns=lambda x:x.replace(agg_col, new_col_name), inplace=True)\n",
    "    return pd.merge(df, new_df, left_on=group_key, right_index=True,how='left').fillna({new_col_name:0})"
   ]
  },
  {
   "cell_type": "code",
   "execution_count": 76,
   "metadata": {},
   "outputs": [
    {
     "data": {
      "text/html": [
       "<div>\n",
       "<style scoped>\n",
       "    .dataframe tbody tr th:only-of-type {\n",
       "        vertical-align: middle;\n",
       "    }\n",
       "\n",
       "    .dataframe tbody tr th {\n",
       "        vertical-align: top;\n",
       "    }\n",
       "\n",
       "    .dataframe thead th {\n",
       "        text-align: right;\n",
       "    }\n",
       "</style>\n",
       "<table border=\"1\" class=\"dataframe\">\n",
       "  <thead>\n",
       "    <tr style=\"text-align: right;\">\n",
       "      <th></th>\n",
       "      <th>EID</th>\n",
       "      <th>DishonestID</th>\n",
       "      <th>RegDate</th>\n",
       "      <th>CloseDate</th>\n",
       "      <th>RegYear</th>\n",
       "      <th>dis_count_2013</th>\n",
       "    </tr>\n",
       "  </thead>\n",
       "  <tbody>\n",
       "    <tr>\n",
       "      <th>14</th>\n",
       "      <td>542420088</td>\n",
       "      <td>42401939</td>\n",
       "      <td>201310</td>\n",
       "      <td>NaN</td>\n",
       "      <td>2013</td>\n",
       "      <td>2.0</td>\n",
       "    </tr>\n",
       "    <tr>\n",
       "      <th>15</th>\n",
       "      <td>542420088</td>\n",
       "      <td>16065</td>\n",
       "      <td>201310</td>\n",
       "      <td>NaN</td>\n",
       "      <td>2013</td>\n",
       "      <td>2.0</td>\n",
       "    </tr>\n",
       "  </tbody>\n",
       "</table>\n",
       "</div>"
      ],
      "text/plain": [
       "          EID  DishonestID  RegDate  CloseDate  RegYear  dis_count_2013\n",
       "14  542420088     42401939   201310        NaN     2013             2.0\n",
       "15  542420088        16065   201310        NaN     2013             2.0"
      ]
     },
     "execution_count": 76,
     "metadata": {},
     "output_type": "execute_result"
    }
   ],
   "source": [
    "dishonest = dishonest_count(dishonest, 'EID', 'RegYear', 2013, 'DishonestID', 'dis_count_2013')\n",
    "dishonest[(dishonest.EID==542420088) & (dishonest.RegYear==2013)]"
   ]
  },
  {
   "cell_type": "code",
   "execution_count": 77,
   "metadata": {
    "collapsed": true
   },
   "outputs": [],
   "source": [
    "dishonest = dishonest_count(dishonest, 'EID', 'RegYear', 2014, 'DishonestID', 'dis_count_2014')\n",
    "dishonest = dishonest_count(dishonest, 'EID', 'RegYear', 2015, 'DishonestID', 'dis_count_2015')\n",
    "dishonest = dishonest_unclose_count(dishonest, 'EID', 'CloseDate', 'DishonestID', 'dis_count_unclose')"
   ]
  },
  {
   "cell_type": "code",
   "execution_count": 78,
   "metadata": {},
   "outputs": [
    {
     "data": {
      "text/plain": [
       "(2968, 9)"
      ]
     },
     "execution_count": 78,
     "metadata": {},
     "output_type": "execute_result"
    }
   ],
   "source": [
    "dishonest.shape"
   ]
  },
  {
   "cell_type": "code",
   "execution_count": 79,
   "metadata": {},
   "outputs": [
    {
     "data": {
      "text/html": [
       "<div>\n",
       "<style scoped>\n",
       "    .dataframe tbody tr th:only-of-type {\n",
       "        vertical-align: middle;\n",
       "    }\n",
       "\n",
       "    .dataframe tbody tr th {\n",
       "        vertical-align: top;\n",
       "    }\n",
       "\n",
       "    .dataframe thead th {\n",
       "        text-align: right;\n",
       "    }\n",
       "</style>\n",
       "<table border=\"1\" class=\"dataframe\">\n",
       "  <thead>\n",
       "    <tr style=\"text-align: right;\">\n",
       "      <th></th>\n",
       "      <th>EID</th>\n",
       "      <th>DishonestID</th>\n",
       "      <th>RegDate</th>\n",
       "      <th>CloseDate</th>\n",
       "      <th>RegYear</th>\n",
       "      <th>dis_count_2013</th>\n",
       "      <th>dis_count_2014</th>\n",
       "      <th>dis_count_2015</th>\n",
       "      <th>dis_count_unclose</th>\n",
       "    </tr>\n",
       "  </thead>\n",
       "  <tbody>\n",
       "    <tr>\n",
       "      <th>1</th>\n",
       "      <td>463954664</td>\n",
       "      <td>98741001</td>\n",
       "      <td>201503</td>\n",
       "      <td>NaN</td>\n",
       "      <td>2015</td>\n",
       "      <td>0.0</td>\n",
       "      <td>0.0</td>\n",
       "      <td>2.0</td>\n",
       "      <td>2.0</td>\n",
       "    </tr>\n",
       "    <tr>\n",
       "      <th>2</th>\n",
       "      <td>463954664</td>\n",
       "      <td>1349372</td>\n",
       "      <td>201503</td>\n",
       "      <td>NaN</td>\n",
       "      <td>2015</td>\n",
       "      <td>0.0</td>\n",
       "      <td>0.0</td>\n",
       "      <td>2.0</td>\n",
       "      <td>2.0</td>\n",
       "    </tr>\n",
       "  </tbody>\n",
       "</table>\n",
       "</div>"
      ],
      "text/plain": [
       "         EID  DishonestID  RegDate  CloseDate  RegYear  dis_count_2013  \\\n",
       "1  463954664     98741001   201503        NaN     2015             0.0   \n",
       "2  463954664      1349372   201503        NaN     2015             0.0   \n",
       "\n",
       "   dis_count_2014  dis_count_2015  dis_count_unclose  \n",
       "1             0.0             2.0                2.0  \n",
       "2             0.0             2.0                2.0  "
      ]
     },
     "execution_count": 79,
     "metadata": {},
     "output_type": "execute_result"
    }
   ],
   "source": [
    "dishonest[dishonest.EID==463954664]"
   ]
  },
  {
   "cell_type": "code",
   "execution_count": 80,
   "metadata": {
    "collapsed": true
   },
   "outputs": [],
   "source": [
    "# 只取最近发生的失信记录中，取还没有注销的记录\n",
    "dishonest['dis_count'] = dishonest.sort_values(['EID','RegDate','CloseDate'], ascending=[True, True, False])\\\n",
    "                            .groupby(['EID']).cumcount() + 1\n",
    "idx = dishonest.groupby(['EID'])['dis_count'].transform(max) == dishonest['dis_count']\n",
    "dishonest = dishonest[idx]"
   ]
  },
  {
   "cell_type": "code",
   "execution_count": 81,
   "metadata": {
    "collapsed": true
   },
   "outputs": [],
   "source": [
    "# 重命名\n",
    "dishonest.rename(columns=lambda x:x.replace('RegDate','LastDisRegDate'), inplace=True)\n",
    "dishonest.rename(columns=lambda x:x.replace('CloseDate','LastDisCloseDate'), inplace=True)\n",
    "dishonest.rename(columns=lambda x:x.replace('RegYear','LastDisRegYear'), inplace=True)"
   ]
  },
  {
   "cell_type": "code",
   "execution_count": 82,
   "metadata": {},
   "outputs": [
    {
     "data": {
      "text/plain": [
       "Index(['EID', 'DishonestID', 'LastDisRegDate', 'LastDisCloseDate',\n",
       "       'LastDisRegYear', 'dis_count_2013', 'dis_count_2014', 'dis_count_2015',\n",
       "       'dis_count_unclose', 'dis_count'],\n",
       "      dtype='object')"
      ]
     },
     "execution_count": 82,
     "metadata": {},
     "output_type": "execute_result"
    }
   ],
   "source": [
    "dishonest.columns"
   ]
  },
  {
   "cell_type": "markdown",
   "metadata": {},
   "source": [
    "# Merge tables"
   ]
  },
  {
   "cell_type": "code",
   "execution_count": 83,
   "metadata": {
    "collapsed": true
   },
   "outputs": [],
   "source": [
    "del train_raw['EndDate']\n",
    "del test_raw['PROB']"
   ]
  },
  {
   "cell_type": "code",
   "execution_count": 84,
   "metadata": {
    "collapsed": true
   },
   "outputs": [],
   "source": [
    "total = pd.concat([train_raw,test_raw])"
   ]
  },
  {
   "cell_type": "code",
   "execution_count": 85,
   "metadata": {},
   "outputs": [
    {
     "data": {
      "text/plain": [
       "(299810, 2)"
      ]
     },
     "execution_count": 85,
     "metadata": {},
     "output_type": "execute_result"
    }
   ],
   "source": [
    "total.shape"
   ]
  },
  {
   "cell_type": "code",
   "execution_count": 86,
   "metadata": {
    "collapsed": true
   },
   "outputs": [],
   "source": [
    "total = pd.merge(total, entbase, how='left', on='EID')\n",
    "total = pd.merge(total, alter, how='left', on='EID')\n",
    "total = pd.merge(total, branch, how='left', on='EID')\n",
    "total = pd.merge(total, dishonest, how='left', on='EID')\n",
    "total = total.apply(pd.to_numeric, errors='ignore')"
   ]
  },
  {
   "cell_type": "code",
   "execution_count": 87,
   "metadata": {
    "scrolled": true
   },
   "outputs": [
    {
     "data": {
      "text/plain": [
       "(299810, 39)"
      ]
     },
     "execution_count": 87,
     "metadata": {},
     "output_type": "execute_result"
    }
   ],
   "source": [
    "total.shape"
   ]
  },
  {
   "cell_type": "code",
   "execution_count": 88,
   "metadata": {
    "collapsed": true
   },
   "outputs": [],
   "source": [
    "train = total[total['Y'].isnull() == False]\n",
    "test = total[total['Y'].isnull() == True]\n",
    "del test['Y']"
   ]
  },
  {
   "cell_type": "code",
   "execution_count": 89,
   "metadata": {},
   "outputs": [
    {
     "data": {
      "text/plain": [
       "Index(['EID', 'Y', 'CreateYear', 'TradeType', 'RegisteredCapital', 'Type',\n",
       "       'Feature1', 'Feature2', 'Feature3', 'Feature4', 'Feature5',\n",
       "       'AvgTradeTypeCapital', 'TradeTypeCapitalSize', 'alt_year', 'alt_month',\n",
       "       'alter_count_2015', 'alter_count', 'ALTDIFF05', 'alt_05_sum',\n",
       "       'alter_05_year', 'alter_05_month', 'ALTDIFF27', 'alt_27_sum',\n",
       "       'alter_27_year', 'alter_27_month', 'branch_same', 'RegYear',\n",
       "       'CloseYear', 'branch_count', 'branch_end_count_2015', 'DishonestID',\n",
       "       'LastDisRegDate', 'LastDisCloseDate', 'LastDisRegYear',\n",
       "       'dis_count_2013', 'dis_count_2014', 'dis_count_2015',\n",
       "       'dis_count_unclose', 'dis_count'],\n",
       "      dtype='object')"
      ]
     },
     "execution_count": 89,
     "metadata": {},
     "output_type": "execute_result"
    }
   ],
   "source": [
    "train.columns"
   ]
  },
  {
   "cell_type": "code",
   "execution_count": 90,
   "metadata": {},
   "outputs": [
    {
     "data": {
      "text/html": [
       "<div>\n",
       "<style scoped>\n",
       "    .dataframe tbody tr th:only-of-type {\n",
       "        vertical-align: middle;\n",
       "    }\n",
       "\n",
       "    .dataframe tbody tr th {\n",
       "        vertical-align: top;\n",
       "    }\n",
       "\n",
       "    .dataframe thead th {\n",
       "        text-align: right;\n",
       "    }\n",
       "</style>\n",
       "<table border=\"1\" class=\"dataframe\">\n",
       "  <thead>\n",
       "    <tr style=\"text-align: right;\">\n",
       "      <th></th>\n",
       "      <th>AvgTradeTypeCapital</th>\n",
       "      <th>TradeTypeCapitalSize</th>\n",
       "      <th>RegisteredCapital</th>\n",
       "      <th>Y</th>\n",
       "    </tr>\n",
       "  </thead>\n",
       "  <tbody>\n",
       "    <tr>\n",
       "      <th>AvgTradeTypeCapital</th>\n",
       "      <td>1.000000</td>\n",
       "      <td>0.000205</td>\n",
       "      <td>0.083024</td>\n",
       "      <td>-0.010032</td>\n",
       "    </tr>\n",
       "    <tr>\n",
       "      <th>TradeTypeCapitalSize</th>\n",
       "      <td>0.000205</td>\n",
       "      <td>1.000000</td>\n",
       "      <td>0.694695</td>\n",
       "      <td>-0.009861</td>\n",
       "    </tr>\n",
       "    <tr>\n",
       "      <th>RegisteredCapital</th>\n",
       "      <td>0.083024</td>\n",
       "      <td>0.694695</td>\n",
       "      <td>1.000000</td>\n",
       "      <td>-0.006858</td>\n",
       "    </tr>\n",
       "    <tr>\n",
       "      <th>Y</th>\n",
       "      <td>-0.010032</td>\n",
       "      <td>-0.009861</td>\n",
       "      <td>-0.006858</td>\n",
       "      <td>1.000000</td>\n",
       "    </tr>\n",
       "  </tbody>\n",
       "</table>\n",
       "</div>"
      ],
      "text/plain": [
       "                      AvgTradeTypeCapital  TradeTypeCapitalSize  \\\n",
       "AvgTradeTypeCapital              1.000000              0.000205   \n",
       "TradeTypeCapitalSize             0.000205              1.000000   \n",
       "RegisteredCapital                0.083024              0.694695   \n",
       "Y                               -0.010032             -0.009861   \n",
       "\n",
       "                      RegisteredCapital         Y  \n",
       "AvgTradeTypeCapital            0.083024 -0.010032  \n",
       "TradeTypeCapitalSize           0.694695 -0.009861  \n",
       "RegisteredCapital              1.000000 -0.006858  \n",
       "Y                             -0.006858  1.000000  "
      ]
     },
     "execution_count": 90,
     "metadata": {},
     "output_type": "execute_result"
    }
   ],
   "source": [
    "train[['AvgTradeTypeCapital','TradeTypeCapitalSize','RegisteredCapital','Y']].corr()"
   ]
  },
  {
   "cell_type": "code",
   "execution_count": 91,
   "metadata": {
    "collapsed": true
   },
   "outputs": [],
   "source": [
    "del train['TradeTypeCapitalSize']\n",
    "del test['TradeTypeCapitalSize']"
   ]
  },
  {
   "cell_type": "markdown",
   "metadata": {},
   "source": [
    "# Train"
   ]
  },
  {
   "cell_type": "markdown",
   "metadata": {},
   "source": [
    "### 尝试输出混淆矩阵"
   ]
  },
  {
   "cell_type": "code",
   "execution_count": 92,
   "metadata": {
    "collapsed": true
   },
   "outputs": [],
   "source": [
    "%matplotlib inline\n",
    "import itertools\n",
    "import matplotlib.pyplot as plt\n",
    "from sklearn.metrics import confusion_matrix"
   ]
  },
  {
   "cell_type": "code",
   "execution_count": 93,
   "metadata": {
    "collapsed": true,
    "scrolled": true
   },
   "outputs": [],
   "source": [
    "def plot_confusion_matrix(cm, classes, normalize=False, title='Confusion matrix', cmap=plt.cm.Blues):\n",
    "    \"\"\"\n",
    "    This function prints and plots the confusion matrix.\n",
    "    Normalization can be applied by setting `normalize=True`.\n",
    "    \"\"\"\n",
    "    if normalize:\n",
    "        cm = cm.astype('float') / cm.sum(axis=1)[:, np.newaxis]\n",
    "        print(\"Normalized confusion matrix\")\n",
    "    else:\n",
    "        print('Confusion matrix, without normalization')\n",
    "\n",
    "    plt.imshow(cm, interpolation='nearest', cmap=cmap)\n",
    "    plt.title(title)\n",
    "    plt.colorbar()\n",
    "    tick_marks = np.arange(len(classes))\n",
    "    plt.xticks(tick_marks, classes, rotation=45)\n",
    "    plt.yticks(tick_marks, classes)\n",
    "\n",
    "    fmt = '.2f' if normalize else 'd'\n",
    "    thresh = cm.max() / 2.\n",
    "    for i, j in itertools.product(range(cm.shape[0]), range(cm.shape[1])):\n",
    "        plt.text(j, i, format(cm[i, j], fmt), horizontalalignment=\"center\", color=\"white\" if cm[i, j] > thresh else \"black\")\n",
    "\n",
    "    plt.tight_layout()\n",
    "    plt.ylabel('True label')\n",
    "    plt.xlabel('Predicted label')\n",
    "    plt.show()"
   ]
  },
  {
   "cell_type": "code",
   "execution_count": 94,
   "metadata": {
    "collapsed": true
   },
   "outputs": [],
   "source": [
    "def display_importances(feature_importance_df_):\n",
    "    cols = feature_importance_df_[[\"feature\", \"importance\"]].groupby(\"feature\").mean()\\\n",
    "                                        .sort_values(by=\"importance\", ascending=False)[:40].index\n",
    "    best_features = feature_importance_df_.loc[feature_importance_df_.feature.isin(cols)]\n",
    "    plt.figure(figsize=(8, 10))\n",
    "    sns.barplot(x=\"importance\", y=\"feature\", data=best_features.sort_values(by=\"importance\", ascending=False))\n",
    "    plt.title('Feature Importances')\n",
    "    plt.tight_layout()\n",
    "    plt.show()"
   ]
  },
  {
   "cell_type": "code",
   "execution_count": 95,
   "metadata": {
    "collapsed": true
   },
   "outputs": [],
   "source": [
    "def evaluate(X, y):\n",
    "    start = time.time()\n",
    "    # AUC\n",
    "    lgb_cv = lgb.cv(l_params, lgb.Dataset(X, label=y), 10000, nfold=5,\\\n",
    "                    verbose_eval=100, early_stopping_rounds=100)\n",
    "    print('highest cv is: ',lgb_cv['auc-mean'][-1], 'round is: ',len(lgb_cv['auc-mean']))\n",
    "    \n",
    "    # F1-阈值\n",
    "    x_train, x_valid, y_train, y_valid = train_test_split(X, y, test_size=0.2, random_state=4242)\n",
    "    model = lgb.train(l_params, lgb.Dataset(x_train, label=y_train), len(lgb_cv['auc-mean']))\n",
    "    y_pred_valid = model.predict(x_valid)\n",
    "    best = 0\n",
    "    index = 0\n",
    "    for threshold in range(0,100,1):\n",
    "        t = threshold/100.0\n",
    "        tmp = f1_score(y_valid,y_pred_valid>t)\n",
    "        if tmp > best:\n",
    "            best = tmp\n",
    "            index = t\n",
    "            cm = confusion_matrix(y_valid,y_pred_valid>t)\n",
    "    print('threshold is: ',index)\n",
    "    print('f1-score is: ',best)\n",
    "    plot_confusion_matrix(cm, classes=['0','1'], title='Confusion matrix')\n",
    "    \n",
    "    # final score\n",
    "    print('final score is: ', lgb_cv['auc-mean'][-1]*0.7 + best*0.3)\n",
    "    \n",
    "    # 特征重要性\n",
    "    importance_df = pd.DataFrame()\n",
    "    importance_df[\"feature\"] = list(x_train.columns)\n",
    "    importance_df[\"importance\"] = model.feature_importance(importance_type='split', iteration=-1)\n",
    "    \n",
    "    display_importances(importance_df)\n",
    "    \n",
    "    return lgb_cv, index"
   ]
  },
  {
   "cell_type": "code",
   "execution_count": 96,
   "metadata": {
    "collapsed": true
   },
   "outputs": [],
   "source": [
    "# lgb\n",
    "l_params = {'metric': 'auc', 'learning_rate' : 0.1, \\\n",
    "          'max_depth': -1, 'max_bin': 20,  'objective': 'binary', \n",
    "          'feature_fraction': 0.8,'bagging_fraction': 0.9,\\\n",
    "          'bagging_freq': 2, 'num_leaves': 15,\\\n",
    "         'boosting_type': 'gbdt'}"
   ]
  },
  {
   "cell_type": "code",
   "execution_count": 97,
   "metadata": {},
   "outputs": [
    {
     "data": {
      "text/plain": [
       "(150095, 38)"
      ]
     },
     "execution_count": 97,
     "metadata": {},
     "output_type": "execute_result"
    }
   ],
   "source": [
    "train_cv = train.copy()\n",
    "train_cv.shape"
   ]
  },
  {
   "cell_type": "code",
   "execution_count": 98,
   "metadata": {
    "collapsed": true
   },
   "outputs": [],
   "source": [
    "X = train_cv.drop(['EID', 'Y'], axis=1)\n",
    "y = train_cv['Y']"
   ]
  },
  {
   "cell_type": "code",
   "execution_count": 103,
   "metadata": {
    "scrolled": true
   },
   "outputs": [
    {
     "data": {
      "text/plain": [
       "Index(['CreateYear', 'TradeType', 'RegisteredCapital', 'Type', 'Feature1',\n",
       "       'Feature2', 'Feature3', 'Feature4', 'Feature5', 'AvgTradeTypeCapital',\n",
       "       'alt_year', 'alt_month', 'alter_count_2015', 'alter_count', 'ALTDIFF05',\n",
       "       'alt_05_sum', 'alter_05_year', 'alter_05_month', 'ALTDIFF27',\n",
       "       'alt_27_sum', 'alter_27_year', 'alter_27_month', 'branch_same',\n",
       "       'RegYear', 'CloseYear', 'branch_count', 'branch_end_count_2015',\n",
       "       'DishonestID', 'LastDisRegDate', 'LastDisCloseDate', 'LastDisRegYear',\n",
       "       'dis_count_2013', 'dis_count_2014', 'dis_count_2015',\n",
       "       'dis_count_unclose', 'dis_count'],\n",
       "      dtype='object')"
      ]
     },
     "execution_count": 103,
     "metadata": {},
     "output_type": "execute_result"
    }
   ],
   "source": [
    "X.columns"
   ]
  },
  {
   "cell_type": "code",
   "execution_count": 109,
   "metadata": {
    "scrolled": true
   },
   "outputs": [
    {
     "name": "stdout",
     "output_type": "stream",
     "text": [
      "[100]\tcv_agg's auc: 0.656415 + 0.00314\n",
      "[200]\tcv_agg's auc: 0.65788 + 0.00279819\n",
      "highest cv is:  0.6579595912268055 round is:  188\n",
      "threshold is:  0.15\n",
      "f1-score is:  0.3034441359645832\n",
      "Confusion matrix, without normalization\n"
     ]
    },
    {
     "data": {
      "image/png": "[encoded data removed]",
      "text/plain": [
       "<matplotlib.figure.Figure at 0x7f3ab66f6940>"
      ]
     },
     "metadata": {},
     "output_type": "display_data"
    },
    {
     "name": "stdout",
     "output_type": "stream",
     "text": [
      "final score is:  0.5516049546481387\n"
     ]
    },
    {
     "data": {
      "image/png": "[encoded data removed]",
      "text/plain": [
       "<matplotlib.figure.Figure at 0x7f3ab6a65438>"
      ]
     },
     "metadata": {},
     "output_type": "display_data"
    }
   ],
   "source": [
    "lgb_cv, f1_th = evaluate(X, y)"
   ]
  },
  {
   "cell_type": "code",
   "execution_count": 105,
   "metadata": {
    "collapsed": true
   },
   "outputs": [],
   "source": [
    "# 1. baseline  线下0.5506486251865143  线上0.54972363000\n",
    "# 2. baseline+entbase特征工程   线下0.5522268849698447  线上0.55381292000\n",
    "# 3. baseline+dishonest特征工程   线下0.5526178805076053   线上0.55403787000"
   ]
  },
  {
   "cell_type": "markdown",
   "metadata": {},
   "source": [
    "# Pred"
   ]
  },
  {
   "cell_type": "code",
   "execution_count": 106,
   "metadata": {
    "collapsed": true
   },
   "outputs": [],
   "source": [
    "model = lgb.train(l_params, lgb.Dataset(X, label=y), len(lgb_cv['auc-mean']))\n",
    "pred = model.predict(test.drop(['EID'], axis=1))"
   ]
  },
  {
   "cell_type": "markdown",
   "metadata": {},
   "source": [
    "# Output"
   ]
  },
  {
   "cell_type": "code",
   "execution_count": 107,
   "metadata": {
    "collapsed": true
   },
   "outputs": [],
   "source": [
    "test['PROB'] = pred\n",
    "sub = pd.DataFrame({'EID':test.EID, 'PROB':test.PROB})\n",
    "sub.insert(1, 'Y', 0)"
   ]
  },
  {
   "cell_type": "code",
   "execution_count": 108,
   "metadata": {
    "collapsed": true
   },
   "outputs": [],
   "source": [
    "test_raw = pd.read_csv(PATH_DATA_RAW + \"evaluation_public.csv\")\n",
    "del test_raw['Y']\n",
    "del test_raw['PROB']"
   ]
  },
  {
   "cell_type": "code",
   "execution_count": 226,
   "metadata": {
    "collapsed": true
   },
   "outputs": [],
   "source": [
    "test_raw = test_raw.merge(sub,how='left',on='EID')"
   ]
  },
  {
   "cell_type": "code",
   "execution_count": 227,
   "metadata": {
    "collapsed": true
   },
   "outputs": [],
   "source": [
    "test_raw['Y'][test_raw['PROB'] >= f1_th] = 1"
   ]
  },
  {
   "cell_type": "code",
   "execution_count": 229,
   "metadata": {
    "collapsed": true
   },
   "outputs": [],
   "source": [
    "test_raw.to_csv('../submit/baseline_publish.csv',index=False, encoding = 'utf-8')"
   ]
  },
  {
   "cell_type": "code",
   "execution_count": null,
   "metadata": {
    "collapsed": true
   },
   "outputs": [],
   "source": []
  }
 ],
 "metadata": {
  "kernelspec": {
   "display_name": "Python 3",
   "language": "python",
   "name": "python3"
  },
  "language_info": {
   "codemirror_mode": {
    "name": "ipython",
    "version": 3
   },
   "file_extension": ".py",
   "mimetype": "text/x-python",
   "name": "python",
   "nbconvert_exporter": "python",
   "pygments_lexer": "ipython3",
   "version": "3.6.2"
  }
 },
 "nbformat": 4,
 "nbformat_minor": 2
}
